{
 "cells": [
  {
   "cell_type": "code",
   "execution_count": null,
   "metadata": {},
   "outputs": [],
   "source": [
    "%pip install openai"
   ]
  },
  {
   "cell_type": "code",
   "execution_count": null,
   "metadata": {},
   "outputs": [],
   "source": [
    "# %%writefile -a ./.env\n",
    "\n",
    "# AZURE_OPENAI_API_KEY=\n",
    "# AZURE_OPENAI_ENDPOINT="
   ]
  },
  {
   "cell_type": "code",
   "execution_count": 2,
   "metadata": {},
   "outputs": [
    {
     "name": "stdout",
     "output_type": "stream",
     "text": [
      "The image depicts a famous historical or religious scene known as \"The Last Supper.\" The people in the painting are sitting around a long table, engaged in conversation, with various expressions and gestures. The table is set with plates, cups, and bread. The setting appears to be an indoor room with windows in the background revealing a distant landscape. The painting captures a moment of activity and interaction among the individuals.\n"
     ]
    }
   ],
   "source": [
    "import os\n",
    "from dotenv import load_dotenv\n",
    "load_dotenv()\n",
    "\n",
    "from openai import AzureOpenAI\n",
    "import base64\n",
    "\n",
    "# Initialize Azure OpenAI client\n",
    "client = AzureOpenAI(\n",
    "    api_key=os.getenv(\"AZURE_OPENAI_API_KEY\"),\n",
    "    api_version=\"2024-05-01-preview\",\n",
    "    azure_endpoint=os.getenv(\"AZURE_OPENAI_ENDPOINT\")\n",
    ")\n",
    "\n",
    "# Function to encode image to base64\n",
    "def encode_image(image_path):\n",
    "    with open(image_path, \"rb\") as image_file:\n",
    "        return base64.b64encode(image_file.read()).decode('utf-8')\n",
    "\n",
    "# Path to your image\n",
    "image_path = \"OpenAI_demo_files/the_last_supper.jpeg\"\n",
    "base64_image = encode_image(image_path)\n",
    "\n",
    "# Create the message with both text and image\n",
    "messages = [\n",
    "    {\n",
    "        \"role\": \"user\",\n",
    "        \"content\": [\n",
    "            {\n",
    "                \"type\": \"text\",\n",
    "                \"text\": \"What can you see in this image? If there are any people, what are they doing?\"\n",
    "            },\n",
    "            {\n",
    "                \"type\": \"image_url\",\n",
    "                \"image_url\": {\n",
    "                    \"url\": f\"data:image/jpeg;base64,{base64_image}\"\n",
    "                }\n",
    "            }\n",
    "        ]\n",
    "    }\n",
    "]\n",
    "\n",
    "# Send request to GPT-4V\n",
    "response = client.chat.completions.create(\n",
    "    model=\"gpt-4o\", \n",
    "    messages=messages,\n",
    "    max_tokens=300\n",
    ")\n",
    "\n",
    "# Print the response\n",
    "print(response.choices[0].message.content)"
   ]
  },
  {
   "cell_type": "code",
   "execution_count": 3,
   "metadata": {},
   "outputs": [],
   "source": [
    "from openai import AzureOpenAI\n",
    "from dotenv import load_dotenv\n",
    "load_dotenv()\n",
    "\n",
    "import os\n",
    "client = AzureOpenAI(\n",
    "    api_key=os.getenv(\"AZURE_OPENAI_API_KEY\"),  \n",
    "    api_version=\"2024-05-01-preview\",\n",
    "    azure_endpoint = os.getenv(\"AZURE_OPENAI_ENDPOINT\")\n",
    "    )\n",
    "\n",
    "assistant = client.beta.assistants.create(\n",
    "  name=\"Financial Analyst Assistant\",\n",
    "  instructions=\"You are an expert financial analyst. Use your knowledge base to answer questions about audited financial statements.\",\n",
    "  model=\"gpt-4o\",\n",
    "  tools=[{\"type\": \"file_search\"}],\n",
    ")"
   ]
  },
  {
   "cell_type": "code",
   "execution_count": 4,
   "metadata": {},
   "outputs": [
    {
     "name": "stdout",
     "output_type": "stream",
     "text": [
      "completed\n",
      "FileCounts(cancelled=0, completed=1, failed=0, in_progress=0, total=1)\n"
     ]
    }
   ],
   "source": [
    "\n",
    "# Create a vector store called \"Financial Statements\"\n",
    "vector_store = client.beta.vector_stores.create(name=\"Financial Statements\")\n",
    " \n",
    "# Ready the files for upload to OpenAI\n",
    "file_paths = [\"OpenAI_demo_files/financial_results.pdf\"]\n",
    "file_streams = [open(path, \"rb\") for path in file_paths]\n",
    " \n",
    "# Use the upload and poll SDK helper to upload the files, add them to the vector store,\n",
    "# and poll the status of the file batch for completion.\n",
    "file_batch = client.beta.vector_stores.file_batches.upload_and_poll(\n",
    "  vector_store_id=vector_store.id, files=file_streams\n",
    ")\n",
    " \n",
    "assistant = client.beta.assistants.update(\n",
    "  assistant_id=assistant.id,\n",
    "  tool_resources={\"file_search\": {\"vector_store_ids\": [vector_store.id]}},\n",
    ")\n",
    "\n",
    "# You can print the status and the file counts of the batch to see the result of this operation.\n",
    "print(file_batch.status)\n",
    "print(file_batch.file_counts)"
   ]
  },
  {
   "cell_type": "code",
   "execution_count": 5,
   "metadata": {},
   "outputs": [
    {
     "name": "stdout",
     "output_type": "stream",
     "text": [
      "user: What are the major source of revenue for the company?\n",
      "assistant: The major sources of revenue for the company are:\n",
      "\n",
      "1. **Digital Media Segment**: This segment includes major products such as Creative Cloud and Document Cloud. For the second quarter of fiscal year 2024, the Digital Media segment reported a revenue of $3.91 billion, representing 11 percent year-over-year growth. Specifically, Creative Cloud revenue was $3.13 billion, and Document Cloud revenue was $782 million【4:0†source】【4:3†source】.\n",
      "\n",
      "2. **Digital Experience Segment**: This segment includes subscription services related to the company's Experience Cloud. For the same quarter, the Digital Experience segment reported a revenue of $1.33 billion, representing 9 percent year-over-year growth, with subscription revenue accounting for $1.20 billion【4:0†source】【4:3†source】.\n",
      "\n",
      "Overall, the company achieved a total revenue of $5.31 billion in the second quarter of fiscal year 2024, driven by strong growth across these segments【4:3†source】.\n"
     ]
    }
   ],
   "source": [
    "thread = client.beta.threads.create()\n",
    "\n",
    "# Add a user question to the thread\n",
    "message = client.beta.threads.messages.create(\n",
    "    thread_id=thread.id,\n",
    "    role=\"user\",\n",
    "    content=\"What are the major source of revenue for the company?\"\n",
    ")\n",
    "\n",
    "# Run the thread and poll for the result\n",
    "run = client.beta.threads.runs.create_and_poll(\n",
    "    thread_id=thread.id,\n",
    "    assistant_id=assistant.id,\n",
    "    instructions=\"Please answer based on files provided\",\n",
    ")\n",
    "\n",
    "if run.status == \"completed\":\n",
    "    messages = client.beta.threads.messages.list(thread_id=thread.id)\n",
    "    for message in messages.data[::-1]:\n",
    "        print(f\"{message.role}: {'/n'.join([x.text.value for x in message.content])}\")"
   ]
  },
  {
   "cell_type": "code",
   "execution_count": 6,
   "metadata": {},
   "outputs": [
    {
     "data": {
      "text/plain": [
       "[FileCitationAnnotation(end_index=426, file_citation=FileCitation(file_id='assistant-u7dsPovnpdOMyQJuAcWlwvuE'), start_index=414, text='【4:0†source】', type='file_citation'),\n",
       " FileCitationAnnotation(end_index=426, file_citation=FileCitation(file_id='assistant-u7dsPovnpdOMyQJuAcWlwvuE'), start_index=414, text='【4:0†source】', type='file_citation'),\n",
       " FileCitationAnnotation(end_index=438, file_citation=FileCitation(file_id='assistant-u7dsPovnpdOMyQJuAcWlwvuE'), start_index=426, text='【4:3†source】', type='file_citation'),\n",
       " FileCitationAnnotation(end_index=438, file_citation=FileCitation(file_id='assistant-u7dsPovnpdOMyQJuAcWlwvuE'), start_index=426, text='【4:3†source】', type='file_citation'),\n",
       " FileCitationAnnotation(end_index=765, file_citation=FileCitation(file_id='assistant-u7dsPovnpdOMyQJuAcWlwvuE'), start_index=753, text='【4:0†source】', type='file_citation'),\n",
       " FileCitationAnnotation(end_index=765, file_citation=FileCitation(file_id='assistant-u7dsPovnpdOMyQJuAcWlwvuE'), start_index=753, text='【4:0†source】', type='file_citation'),\n",
       " FileCitationAnnotation(end_index=777, file_citation=FileCitation(file_id='assistant-u7dsPovnpdOMyQJuAcWlwvuE'), start_index=765, text='【4:3†source】', type='file_citation'),\n",
       " FileCitationAnnotation(end_index=777, file_citation=FileCitation(file_id='assistant-u7dsPovnpdOMyQJuAcWlwvuE'), start_index=765, text='【4:3†source】', type='file_citation'),\n",
       " FileCitationAnnotation(end_index=943, file_citation=FileCitation(file_id='assistant-u7dsPovnpdOMyQJuAcWlwvuE'), start_index=931, text='【4:3†source】', type='file_citation'),\n",
       " FileCitationAnnotation(end_index=943, file_citation=FileCitation(file_id='assistant-u7dsPovnpdOMyQJuAcWlwvuE'), start_index=931, text='【4:3†source】', type='file_citation')]"
      ]
     },
     "execution_count": 6,
     "metadata": {},
     "output_type": "execute_result"
    }
   ],
   "source": [
    "message.content[0].text.annotations"
   ]
  },
  {
   "cell_type": "code",
   "execution_count": 7,
   "metadata": {},
   "outputs": [
    {
     "name": "stdout",
     "output_type": "stream",
     "text": [
      "user: What are the major source of revenue for the company?\n",
      "assistant: The major sources of revenue for the company are:\n",
      "\n",
      "1. **Digital Media Segment**: This segment includes major products such as Creative Cloud and Document Cloud. For the second quarter of fiscal year 2024, the Digital Media segment reported a revenue of $3.91 billion, representing 11 percent year-over-year growth. Specifically, Creative Cloud revenue was $3.13 billion, and Document Cloud revenue was $782 million【4:0†source】【4:3†source】.\n",
      "\n",
      "2. **Digital Experience Segment**: This segment includes subscription services related to the company's Experience Cloud. For the same quarter, the Digital Experience segment reported a revenue of $1.33 billion, representing 9 percent year-over-year growth, with subscription revenue accounting for $1.20 billion【4:0†source】【4:3†source】.\n",
      "\n",
      "Overall, the company achieved a total revenue of $5.31 billion in the second quarter of fiscal year 2024, driven by strong growth across these segments【4:3†source】.\n",
      "user: Can you elaborate on source 2?\n",
      "assistant: The Digital Experience segment, a significant source of revenue for Adobe, reported $1.33 billion in revenue during the second quarter of fiscal year 2024. This represented a 9 percent year-over-year growth, with subscription services contributing $1.20 billion to the revenue, reflecting a 13 percent year-over-year growth in subscription revenue【8:0†source】【8:1†source】.\n"
     ]
    }
   ],
   "source": [
    "\n",
    "# Add a user question to the thread\n",
    "message = client.beta.threads.messages.create(\n",
    "    thread_id=thread.id,\n",
    "    role=\"user\",\n",
    "    content=\"Can you elaborate on source 2?\"\n",
    ")\n",
    "\n",
    "# Run the thread and poll for the result\n",
    "run = client.beta.threads.runs.create_and_poll(\n",
    "    thread_id=thread.id,\n",
    "    assistant_id=assistant.id,\n",
    "    instructions=\"Please answer based on files provided\",\n",
    ")\n",
    "\n",
    "if run.status == \"completed\":\n",
    "    messages = client.beta.threads.messages.list(thread_id=thread.id)\n",
    "    for message in messages.data[::-1]:\n",
    "        print(f\"{message.role}: {'/n'.join([x.text.value for x in message.content])}\")"
   ]
  },
  {
   "cell_type": "code",
   "execution_count": null,
   "metadata": {},
   "outputs": [],
   "source": []
  }
 ],
 "metadata": {
  "kernelspec": {
   "display_name": "dl",
   "language": "python",
   "name": "python3"
  },
  "language_info": {
   "codemirror_mode": {
    "name": "ipython",
    "version": 3
   },
   "file_extension": ".py",
   "mimetype": "text/x-python",
   "name": "python",
   "nbconvert_exporter": "python",
   "pygments_lexer": "ipython3",
   "version": "3.10.11"
  }
 },
 "nbformat": 4,
 "nbformat_minor": 2
}
