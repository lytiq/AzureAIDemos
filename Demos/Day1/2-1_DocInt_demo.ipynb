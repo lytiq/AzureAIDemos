{
 "cells": [
  {
   "cell_type": "code",
   "execution_count": null,
   "metadata": {},
   "outputs": [],
   "source": [
    "# Only some regions are supported in the new document intelligence sdk, use westeurope for now\n",
    "%pip install --upgrade azure-ai-documentintelligence \n",
    "%pip install python-dotenv pandas"
   ]
  },
  {
   "cell_type": "code",
   "execution_count": null,
   "metadata": {},
   "outputs": [
    {
     "name": "stdout",
     "output_type": "stream",
     "text": [
      "Appending to ./.env\n"
     ]
    }
   ],
   "source": [
    "# %%writefile -a ./.env\n",
    "\n",
    "# AZURE_DI_KEY=\n",
    "# AZURE_DI_ENDPOINT=\n",
    "# AZURE_DI_MODEL_NAME="
   ]
  },
  {
   "cell_type": "markdown",
   "metadata": {},
   "source": [
    "# Train Custom Layout Model\n",
    "\n",
    "- Create Azure Document Intelligence resource (Azure Portal)\n",
    "- Create a DI project (Azure DocumentIntelligence Studio)\n",
    "- Select Custom Layout Model (Azure DocumentIntelligence Studio)\n",
    "- Upload training data (see AzDI_sample_dataset), upload files doc1-doc5 (Azure DocumentIntelligence Studio)\n",
    "- Create Fields and annotate the data (Azure DocumentIntelligence Studio)\n",
    "- Train the model (Azure DocumentIntelligence Studio)\n",
    "- Test the model (Azure DocumentIntelligence Studio)\n",
    "- Enter the key, endpoint and model ID into the .env file (Azure Portal)\n",
    "- Run the code below to pass all the files and get the results"
   ]
  },
  {
   "cell_type": "code",
   "execution_count": null,
   "metadata": {},
   "outputs": [
    {
     "data": {
      "text/html": [
       "<div>\n",
       "<style scoped>\n",
       "    .dataframe tbody tr th:only-of-type {\n",
       "        vertical-align: middle;\n",
       "    }\n",
       "\n",
       "    .dataframe tbody tr th {\n",
       "        vertical-align: top;\n",
       "    }\n",
       "\n",
       "    .dataframe thead th {\n",
       "        text-align: right;\n",
       "    }\n",
       "</style>\n",
       "<table border=\"1\" class=\"dataframe\">\n",
       "  <thead>\n",
       "    <tr style=\"text-align: right;\">\n",
       "      <th></th>\n",
       "      <th>Filename</th>\n",
       "      <th>FirstName</th>\n",
       "      <th>LastName</th>\n",
       "      <th>MobileNr</th>\n",
       "      <th>Email</th>\n",
       "      <th>AlreadySubscribed</th>\n",
       "      <th>OptDT</th>\n",
       "      <th>ReferFirstName</th>\n",
       "      <th>ReferLastName</th>\n",
       "      <th>ReferEmail</th>\n",
       "      <th>ReferMobileNr</th>\n",
       "    </tr>\n",
       "  </thead>\n",
       "  <tbody>\n",
       "    <tr>\n",
       "      <th>0</th>\n",
       "      <td>doc1.pdf</td>\n",
       "      <td>Olivia</td>\n",
       "      <td>Berette</td>\n",
       "      <td>(555)217-3489</td>\n",
       "      <td>olivia. berette @ example. com</td>\n",
       "      <td>selected</td>\n",
       "      <td>unselected</td>\n",
       "      <td>Joseph</td>\n",
       "      <td>Liam</td>\n",
       "      <td></td>\n",
       "      <td>(555) 321-5734</td>\n",
       "    </tr>\n",
       "  </tbody>\n",
       "</table>\n",
       "</div>"
      ],
      "text/plain": [
       "   Filename FirstName LastName       MobileNr                           Email  \\\n",
       "0  doc1.pdf    Olivia  Berette  (555)217-3489  olivia. berette @ example. com   \n",
       "\n",
       "  AlreadySubscribed       OptDT ReferFirstName ReferLastName ReferEmail  \\\n",
       "0          selected  unselected         Joseph          Liam              \n",
       "\n",
       "    ReferMobileNr  \n",
       "0  (555) 321-5734  "
      ]
     },
     "execution_count": 1,
     "metadata": {},
     "output_type": "execute_result"
    }
   ],
   "source": [
    "import os\n",
    "from dotenv import load_dotenv\n",
    "load_dotenv()\n",
    "\n",
    "import glob\n",
    "import pandas as pd\n",
    "from azure.ai.documentintelligence import DocumentIntelligenceClient\n",
    "from azure.core.credentials import AzureKeyCredential\n",
    "\n",
    "# Initialize the Document Intelligence Client\n",
    "endpoint = os.environ.get(\"AZURE_DI_ENDPOINT\")\n",
    "key = os.environ.get(\"AZURE_DI_KEY\")\n",
    "model_name = os.environ.get(\"AZURE_DI_MODEL_NAME\")\n",
    "document_intelligence_client = DocumentIntelligenceClient(endpoint=endpoint, credential=AzureKeyCredential(key))\n",
    "\n",
    "# Get all PDF files in the folder\n",
    "pdf_files = glob.glob(\"AzDI_sample_dataset/*.pdf\")\n",
    "\n",
    "# Lists to store results\n",
    "results = []\n",
    "\n",
    "# Process each PDF file\n",
    "for pdf_path in pdf_files:\n",
    "    with open(pdf_path, \"rb\") as f:\n",
    "        poller = document_intelligence_client.begin_analyze_document(\n",
    "            model_id=model_name, analyze_request=f, locale=\"en-US\", content_type=\"application/octet-stream\"\n",
    "        )\n",
    "        result = poller.result()\n",
    "\n",
    "    # Extract fields from the result\n",
    "    for document in result.documents:\n",
    "        fields = document.fields if hasattr(document, 'fields') else {}\n",
    "    \n",
    "        # Create a dictionary for this document\n",
    "        doc_result = {\n",
    "            'Filename': os.path.basename(pdf_path),\n",
    "            'FirstName': fields.get('FirstName', {}).get('valueString', ''),\n",
    "            'LastName': fields.get('LastName', {}).get('valueString', ''),\n",
    "            'MobileNr': fields.get('MobileNr', {}).get('valueString', ''),\n",
    "            'Email': fields.get('Email', {}).get('valueString', ''),\n",
    "            'AlreadySubscribed': fields.get('AlreadySubscribed', {}).get('valueSelectionMark', ''),\n",
    "            'OptDT': fields.get('OptDT', {}).get('valueSelectionMark', ''),\n",
    "            'ReferFirstName': fields.get('ReferFirstName', {}).get('valueString', ''),\n",
    "            'ReferLastName': fields.get('ReferLastName', {}).get('valueString', ''),\n",
    "            'ReferEmail': fields.get('ReferEmail', {}).get('valueString', ''),\n",
    "            'ReferMobileNr': fields.get('ReferMobileNr', {}).get('valueString', '')\n",
    "        }\n",
    "        results.append(doc_result)\n",
    "# Create DataFrame from results\n",
    "df = pd.DataFrame(results)\n",
    "df"
   ]
  },
  {
   "cell_type": "code",
   "execution_count": null,
   "metadata": {},
   "outputs": [],
   "source": []
  }
 ],
 "metadata": {
  "kernelspec": {
   "display_name": "dl",
   "language": "python",
   "name": "python3"
  },
  "language_info": {
   "codemirror_mode": {
    "name": "ipython",
    "version": 3
   },
   "file_extension": ".py",
   "mimetype": "text/x-python",
   "name": "python",
   "nbconvert_exporter": "python",
   "pygments_lexer": "ipython3",
   "version": "3.10.11"
  }
 },
 "nbformat": 4,
 "nbformat_minor": 2
}
