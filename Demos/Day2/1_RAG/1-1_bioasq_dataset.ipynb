{
 "cells": [
  {
   "cell_type": "code",
   "execution_count": 1,
   "metadata": {},
   "outputs": [],
   "source": [
    "# %pip install datasets==3.1.0"
   ]
  },
  {
   "cell_type": "code",
   "execution_count": 2,
   "metadata": {},
   "outputs": [
    {
     "data": {
      "application/vnd.jupyter.widget-view+json": {
       "model_id": "9ee0efd50ed14c428f756377b489d179",
       "version_major": 2,
       "version_minor": 0
      },
      "text/plain": [
       "README.md:   0%|          | 0.00/813 [00:00<?, ?B/s]"
      ]
     },
     "metadata": {},
     "output_type": "display_data"
    }
   ],
   "source": [
    "from datasets import load_dataset\n",
    "\n",
    "ds = load_dataset(\"rag-datasets/rag-mini-bioasq\", \"text-corpus\")\n",
    "query_set = load_dataset(\"rag-datasets/rag-mini-bioasq\", \"question-answer-passages\")\n",
    "\n"
   ]
  },
  {
   "cell_type": "code",
   "execution_count": 5,
   "metadata": {},
   "outputs": [
    {
     "name": "stdout",
     "output_type": "stream",
     "text": [
      "ID: 9797\n",
      "New data on viruses isolated from patients with subacute thyroiditis de Quervain \n",
      "are reported. Characteristic morphological, cytological, some physico-chemical \n",
      "and biological features of the isolated viruses are described. A possible role \n",
      "of these viruses in human and animal health disorders is discussed. The isolated \n",
      "viruses remain unclassified so far.\n",
      "\n",
      "ID: 11906\n",
      "We describe an improved method for detecting deficiency of the acid hydrolase, \n",
      "alpha-1,4-glucosidase in leukocytes, the enzyme defect in glycogen storage \n",
      "disease Type II (Pompe disease). The procedure requires smaller volumes of blood \n",
      "and less time than previous methods. The assay involves the separation of \n",
      "leukocytes by Peter's method for beta-glucosidase and a modification of Salafsky \n",
      "and Nadler's fluorometric method for alpha-glucosidase.\n",
      "\n",
      "ID: 16083\n",
      "We have studied the effects of curare on responses resulting from iontophoretic \n",
      "application of several putative neurotransmitters onto Aplysia neurons. These \n",
      "neurons have specific receptors for acetylcholine (ACh), dopamine, octopamine, \n",
      "phenylethanolamine, histamine, gamma-aminobutyric acid (GABA), aspartic acid, \n",
      "and glutamic acid. Each of these substances may on different specific neurons \n",
      "elicit at least three types of response, caused by a fast depolarizing Na+, a \n",
      "fast hyperpolarizing Cl-, or a slow hyperpolarizing K+ conductance increase. All \n",
      "responses resulting from either Na+ or Cl- conductance increases, irrespective \n",
      "of which putative transmitter activated the response, were sensitive to curare. \n",
      "Most were totally blocked by less than or equal to 10-4 M curare. GABA responses \n",
      "were less sensitive and were often only depressed by 10-3 M curare. K+ \n",
      "conductance responses, irrespective of the transmitter, were not curare \n",
      "sensitive. These results are consistent with a model of receptor organization in \n",
      "which one neurotransmitter receptor may be associated with any of at least three \n",
      "ionophores, mediating conductance increase responses to Na+, Cl-, and K+, \n",
      "respectively. In Aplysia nervous tissue, curare appears not to be a specific \n",
      "antagonist for the nicotinic ACh receptor, but rather to be a specific blocking \n",
      "agent for a class of receptor-activated Na+ and Cl- responses.\n",
      "\n",
      "ID: 23188\n",
      "Kinetic and electrophoretic properties of 230--300 fold purified preparations of \n",
      "glucose-6-phosphate dehydrogenase (G6PD) from red cells of donors and patients \n",
      "with acute drug hemolytic anemia due to G6PD deficiency were studied. A new \n",
      "abnormal variant of G6PD isolated from red cell of a patient with acute drug \n",
      "hemolytic anemia, which was not described in literature, has been discovered. \n",
      "The abnormal enzyme differs from the normal by decreased Michaelis constant for \n",
      "glucose-6-phosphate and nicotinamide adenine dinucleotide phosphate (NADP), by \n",
      "increased utilization of analogues of substrates--2-deoxy-glucose-6-phosphate \n",
      "and particularly deamino-NADP, by low thermal stability, by the character of \n",
      "pH-dependence, by the appearance of a single band of G6PD activity in \n",
      "polyacrylamide gel electrophoresis.\n",
      "\n",
      "ID: 23469\n",
      "Male Wistar specific-pathogen-free rats aged 2, 7, 17, 30, 60, 120, 200, 360 and \n",
      "600 days, all killed in experiment on the same day, were examined. The body \n",
      "weight significantly increased until the 200th day, the weight of adrenals until \n",
      "the 120th day and the adrenal protein content until the 30th day of life. The \n",
      "adrenaline content of the adrenals increased continuously during the 600 days \n",
      "studied. Adrenal noradrenaline content increased rapidly over the first 17 days, \n",
      "remained at a stable level until the 120th day, and rose to a higher level after \n",
      "200 days. The activity of adrenal catecholamine-synthesizing enzymes also \n",
      "increased with age: tyrosine hydroxylase gradually increased until the 360th \n",
      "day, dopamine-beta-hydroxylase and phenylethanolamine-N-methyl transferase until \n",
      "the 200th day. Our results demonstrate that, in the rat, during development \n",
      "there is a gradual increase of adrenal weight, adrenaline content, tyrosine \n",
      "hydroxylase and phenylethanolamine-N-methyl transferase activity until \n",
      "maturation (120th day), whereas the adrenal noradrenaline content reaches the \n",
      "adult values earlier, around the 17th day. During aging, adrenal catecholamines \n",
      "significantly increase when compared to young-adult rats (120-day-old), probably \n",
      "due to the elevated activity of the adrenal catecholamine-synthesizing enzymes. \n",
      "The increased adrenal catecholamine levels in old animals might be connected \n",
      "with a higher incidence of cardiovascular diseases in aged.\n",
      "\n"
     ]
    }
   ],
   "source": [
    "for passage in ds['passages'].take(5):\n",
    "    print(f\"ID: {passage['id']}\\n{passage['passage']}\\n\")"
   ]
  },
  {
   "cell_type": "code",
   "execution_count": 6,
   "metadata": {},
   "outputs": [
    {
     "name": "stdout",
     "output_type": "stream",
     "text": [
      "Q: Is Hirschsprung disease a mendelian or a multifactorial disorder?\n",
      "A: Coding sequence mutations in RET, GDNF, EDNRB, EDN3, and SOX10 are involved in the development of Hirschsprung disease. The majority of these genes was shown to be related to Mendelian syndromic forms of Hirschsprung's disease, whereas the non-Mendelian inheritance of sporadic non-syndromic Hirschsprung disease proved to be complex; involvement of multiple loci was demonstrated in a multiplicative model.\n",
      "Context: [20598273, 6650562, 15829955, 15617541, 23001136, 8896569, 21995290, 12239580, 15858239]\n",
      "\n",
      "Q: List signaling molecules (ligands) that interact with the receptor EGFR?\n",
      "A: The 7 known EGFR ligands  are: epidermal growth factor (EGF), betacellulin (BTC), epiregulin (EPR), heparin-binding EGF (HB-EGF), transforming growth factor-α [TGF-α], amphiregulin (AREG) and epigen (EPG).\n",
      "Context: [23821377, 24323361, 23382875, 22247333, 23787814, 22260327, 23888072, 23959273, 24124521, 23729230, 23089711, 21514161, 23212918, 23099994, 24204699, 23399900]\n",
      "\n",
      "Q: Is the protein Papilin secreted?\n",
      "A: Yes,  papilin is a secreted protein\n",
      "Context: [21784067, 19297413, 15094122, 7515725, 3320045, 20805556, 19724244, 12666201, 15094110, 11076767]\n",
      "\n",
      "Q: Are long non coding RNAs spliced?\n",
      "A: Long non coding RNAs appear to be spliced through the same pathway as the mRNAs\n",
      "Context: [22955974, 21622663, 22707570, 22955988, 24285305, 24106460]\n",
      "\n",
      "Q: Is RANKL secreted from the cells?\n",
      "A: Receptor activator of nuclear factor κB ligand (RANKL) is a cytokine predominantly secreted by osteoblasts.\n",
      "Context: [22867712, 23827649, 21618594, 23835909, 24265865, 23698708, 24267510, 22901753, 22948539, 23632157]\n",
      "\n"
     ]
    }
   ],
   "source": [
    "for query in query_set['test'].take(5):\n",
    "    print(f\"Q: {query['question']}\\nA: {query['answer']}\\nContext: {query['relevant_passage_ids']}\\n\")"
   ]
  },
  {
   "cell_type": "code",
   "execution_count": 10,
   "metadata": {},
   "outputs": [
    {
     "data": {
      "text/plain": [
       "40221"
      ]
     },
     "execution_count": 10,
     "metadata": {},
     "output_type": "execute_result"
    }
   ],
   "source": [
    "len(ds['passages'])"
   ]
  },
  {
   "cell_type": "code",
   "execution_count": 11,
   "metadata": {},
   "outputs": [
    {
     "data": {
      "text/plain": [
       "4719"
      ]
     },
     "execution_count": 11,
     "metadata": {},
     "output_type": "execute_result"
    }
   ],
   "source": [
    "len(query_set['test'])"
   ]
  },
  {
   "cell_type": "code",
   "execution_count": null,
   "metadata": {},
   "outputs": [],
   "source": []
  }
 ],
 "metadata": {
  "kernelspec": {
   "display_name": "dl",
   "language": "python",
   "name": "dl"
  },
  "language_info": {
   "codemirror_mode": {
    "name": "ipython",
    "version": 3
   },
   "file_extension": ".py",
   "mimetype": "text/x-python",
   "name": "python",
   "nbconvert_exporter": "python",
   "pygments_lexer": "ipython3",
   "version": "3.10.11"
  }
 },
 "nbformat": 4,
 "nbformat_minor": 2
}
