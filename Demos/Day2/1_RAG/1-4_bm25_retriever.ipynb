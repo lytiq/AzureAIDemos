{
 "cells": [
  {
   "cell_type": "markdown",
   "id": "5bf1de44-4047-46cf-a04c-dbf910d9e179",
   "metadata": {
    "id": "5bf1de44-4047-46cf-a04c-dbf910d9e179"
   },
   "source": [
    "# BM25 Retriever\n",
    "In this guide, we define a bm25 retriever that search documents using the bm25 method.\n",
    "BM25 (Best Matching 25) is a ranking function that extends TF-IDF by considering term frequency saturation and document length. BM25 effectively ranks documents based on query term occurrence and rarity across the corpus."
   ]
  },
  {
   "cell_type": "markdown",
   "id": "6e73fead-ec2c-4346-bd08-e183c13c7e29",
   "metadata": {
    "id": "6e73fead-ec2c-4346-bd08-e183c13c7e29"
   },
   "source": [
    "## Setup"
   ]
  },
  {
   "cell_type": "markdown",
   "id": "9a2630bc",
   "metadata": {
    "id": "9a2630bc"
   },
   "source": [
    "If you're opening this Notebook on colab, you will probably need to install LlamaIndex 🦙."
   ]
  },
  {
   "cell_type": "code",
   "execution_count": null,
   "id": "a60fea8f",
   "metadata": {
    "colab": {
     "base_uri": "https://localhost:8080/"
    },
    "id": "a60fea8f",
    "outputId": "23a6e87d-a25a-4f2c-a076-ec81be2bc405"
   },
   "outputs": [],
   "source": [
    "%pip install --upgrade llama-index\n",
    "%pip install --upgrade llama-index-retrievers-bm25"
   ]
  },
  {
   "cell_type": "code",
   "execution_count": 1,
   "id": "04941476",
   "metadata": {
    "id": "04941476"
   },
   "outputs": [],
   "source": [
    "import os\n",
    "from llama_index.core import Settings"
   ]
  },
  {
   "cell_type": "markdown",
   "id": "787174ed-10ce-47d7-82fd-9ca7f891eea7",
   "metadata": {
    "id": "787174ed-10ce-47d7-82fd-9ca7f891eea7"
   },
   "source": [
    "## Load Data\n",
    "\n",
    "We first show how to convert a Document into a set of Nodes, and insert into a DocumentStore."
   ]
  },
  {
   "cell_type": "code",
   "execution_count": 2,
   "id": "1fc1b8ac-bf55-4d60-841c-61698663322f",
   "metadata": {
    "id": "1fc1b8ac-bf55-4d60-841c-61698663322f"
   },
   "outputs": [],
   "source": [
    "from datasets import load_dataset\n",
    "import pandas as pd\n",
    "\n",
    "ds = load_dataset(\"rag-datasets/rag-mini-bioasq\", \"text-corpus\")\n",
    "ds = ds['passages'].to_pandas().set_index('id', drop=True)\n",
    "query_set = load_dataset(\"rag-datasets/rag-mini-bioasq\", \"question-answer-passages\")\n"
   ]
  },
  {
   "cell_type": "code",
   "execution_count": 3,
   "id": "1597746f",
   "metadata": {},
   "outputs": [],
   "source": [
    "queries = query_set['test'].take(5)\n",
    "\n",
    "# create a subset of the documents for faster testing\n",
    "\n",
    "passages_required = set()\n",
    "[ passages_required.update([int(id) for id in ids[1:-1].split(\", \")]) for ids in query_set['test'].take(15)['relevant_passage_ids'] ];\n"
   ]
  },
  {
   "cell_type": "code",
   "execution_count": 4,
   "id": "efdce83e",
   "metadata": {},
   "outputs": [],
   "source": [
    "from llama_index.core import Document\n",
    "\n",
    "docs = [Document(text=ds.loc[id].passage, metadata = {'id' : id}) for id in passages_required]\n",
    "for x in docs:\n",
    "    x.doc_id = str(x.metadata['id'])\n",
    "    x.excluded_llm_metadata_keys = ['id']"
   ]
  },
  {
   "cell_type": "code",
   "execution_count": 22,
   "id": "7081194a-ede7-478e-bff2-23e89e23ef16",
   "metadata": {
    "id": "7081194a-ede7-478e-bff2-23e89e23ef16"
   },
   "outputs": [],
   "source": [
    "from llama_index.core.node_parser import SentenceSplitter\n",
    "\n",
    "# initialize node parser, for this dataset 512 is actually bigger than most documents.\n",
    "splitter = SentenceSplitter(chunk_size=512)\n",
    "\n",
    "nodes = splitter.get_nodes_from_documents(docs)"
   ]
  },
  {
   "cell_type": "markdown",
   "id": "f4cab202",
   "metadata": {
    "id": "f4cab202"
   },
   "source": [
    "## BM25 Retriever + Disk Persistance"
   ]
  },
  {
   "cell_type": "code",
   "execution_count": 23,
   "id": "8f61bca2-c3b4-4ef0-a8f1-367933aa6d05",
   "metadata": {
    "colab": {
     "base_uri": "https://localhost:8080/"
    },
    "id": "8f61bca2-c3b4-4ef0-a8f1-367933aa6d05",
    "outputId": "fa9330b7-eb36-4379-8ddc-03e4fe0245ba"
   },
   "outputs": [],
   "source": [
    "from llama_index.retrievers.bm25 import BM25Retriever\n",
    "import Stemmer\n",
    "\n",
    "# We can pass in the index, docstore, or list of nodes to create the retriever\n",
    "bm25_retriever = BM25Retriever.from_defaults(\n",
    "    nodes=nodes,\n",
    "    similarity_top_k=5,\n",
    "    # Optional: We can pass in the stemmer and set the language for stopwords\n",
    "    # This is important for removing stopwords and stemming the query + text\n",
    "    # The default is english for both\n",
    "    stemmer=Stemmer.Stemmer(\"english\"),\n",
    "    language=\"english\",\n",
    ")"
   ]
  },
  {
   "cell_type": "code",
   "execution_count": 24,
   "id": "072620d0",
   "metadata": {
    "colab": {
     "base_uri": "https://localhost:8080/",
     "height": 69,
     "referenced_widgets": [
      "5d8eea5ada8c4fbf855e2aa09c6bec19",
      "1083cb398500433c988171e722215701",
      "eca8709f8a0f4d64ba2483940b9900f8",
      "3df072c0db644244957c79055aa0dc50",
      "096445e14b6c4ecb96140761edb92372",
      "1e44b5cc92974b909cd1c95e76eb1afe",
      "b6de2f18ee8646458c959033c8567572",
      "1b06883290974d2180dd38f47eabcc6f",
      "f3233e978ae94ea99749767e2f15fc08",
      "8e330a1dc3304b75bdcbce1aca8d6797",
      "c5d6ddf6bfbe4a74a0b45e7047f0b09b"
     ]
    },
    "id": "072620d0",
    "outputId": "549d68fd-1b5d-4659-9a25-1b162d6f3aff"
   },
   "outputs": [
    {
     "data": {
      "application/vnd.jupyter.widget-view+json": {
       "model_id": "305668f1cd3b4b5a90810669b9a5f6fe",
       "version_major": 2,
       "version_minor": 0
      },
      "text/plain": [
       "Finding newlines for mmindex:   0%|          | 0.00/306k [00:00<?, ?B/s]"
      ]
     },
     "metadata": {},
     "output_type": "display_data"
    }
   ],
   "source": [
    "bm25_retriever.persist(\"./bm25_retriever\")\n",
    "\n",
    "loaded_bm25_retriever = BM25Retriever.from_persist_dir(\"./bm25_retriever\")"
   ]
  },
  {
   "cell_type": "code",
   "execution_count": 25,
   "id": "7b8c4c12-1a30-425e-8312-04be050b2101",
   "metadata": {
    "colab": {
     "base_uri": "https://localhost:8080/",
     "height": 740
    },
    "id": "7b8c4c12-1a30-425e-8312-04be050b2101",
    "outputId": "74fdaf20-a292-4b0e-fc18-51b96f6752dc"
   },
   "outputs": [
    {
     "name": "stdout",
     "output_type": "stream",
     "text": [
      "{'question': 'Is Hirschsprung disease a mendelian or a multifactorial disorder?', 'answer': \"Coding sequence mutations in RET, GDNF, EDNRB, EDN3, and SOX10 are involved in the development of Hirschsprung disease. The majority of these genes was shown to be related to Mendelian syndromic forms of Hirschsprung's disease, whereas the non-Mendelian inheritance of sporadic non-syndromic Hirschsprung disease proved to be complex; involvement of multiple loci was demonstrated in a multiplicative model.\", 'relevant_passage_ids': '[20598273, 6650562, 15829955, 15617541, 23001136, 8896569, 21995290, 12239580, 15858239]', 'id': 0}\n"
     ]
    },
    {
     "data": {
      "text/markdown": [
       "**Node ID:** 8c7c283c-c0ce-4045-96ab-4a6e98c27b38<br>**Similarity:** 6.5452728271484375<br>**Text:** Hirschsprung's disease is characterized by the absence of ganglion cells in the \n",
       "myenteric and submucosal plexuses of the gastrointestinal tract. Genetic \n",
       "dissection was successful as nine genes and four loci for Hirschsprung's disease \n",
       "susceptibility were identified. Different approaches were used to find these \n",
       "loci such as classical linkage in large families, identity by descent mapping in \n",
       "an inbred kindred, candidate gene approaches based on naturally occurring mutant \n",
       "mice models, and finally the use of model-free linkage and association analyzes. \n",
       "In this study, we review the identification of genes and loci involved in the \n",
       "non-syndromic common form and syndromic Mendelian forms of Hirschsprung's \n",
       "disease. The majority of the identified genes are related to Mendelian syndromic \n",
       "forms of Hirschsprung's disease. The non-Mendelian inheritance of sporadic \n",
       "non-syndromic Hirschsprung's disease proved to be complex; involvement of \n",
       "multiple loci was demonstrated in a multiplicative model. We discuss the \n",
       "practical implications of the elucidation of genes associated with \n",
       "Hirschsprung's disease susceptibility for genetic counseling. Finally, we \n",
       "speculate on possible strategies to identify new genes for Hirschsprung's \n",
       "disease.<br>"
      ],
      "text/plain": [
       "<IPython.core.display.Markdown object>"
      ]
     },
     "metadata": {},
     "output_type": "display_data"
    },
    {
     "data": {
      "text/markdown": [
       "**Node ID:** 2d3e6644-2cff-41e9-998c-1d9ec0ac964a<br>**Similarity:** 5.607312202453613<br>**Text:** Hirschsprung's disease (HSCR) is a fairly frequent cause of intestinal \n",
       "obstruction in children. It is characterized as a sex-linked heterogonous \n",
       "disorder with variable severity and incomplete penetrance giving rise to a \n",
       "variable pattern of inheritance. Although Hirschsprung's disease occurs as an \n",
       "isolated phenotype in at least 70% of cases, it is not infrequently associated \n",
       "with a number of congenital abnormalities and associated syndromes, \n",
       "demonstrating a spectrum of congenital anomalies. Certain of these syndromic \n",
       "phenotypes have been linked to distinct genetic sites, indicating underlying \n",
       "genetic associations of the disease and probable gene-gene interaction, in its \n",
       "pathogenesis. These associations with HSCR include Down's syndrome and other \n",
       "chromosomal anomalies, Waardenburg syndrome and other Dominant sensorineural \n",
       "deafness, the Congenital Central Hypoventilation and Mowat-Wilson and other \n",
       "brain-related syndromes, as well as the MEN2 and other tumour associations. A \n",
       "number of other autosomal recessive syndromes include the Shah-Waardenburg, the \n",
       "Bardet-Biedl and Cartilage-hair hypoplasia, Goldberg-Shprintzen syndromes and \n",
       "other syndromes related to cholesterol and fat metabolism among others. The \n",
       "genetics of Hirschsprung's disease are highly complex with the majority of known \n",
       "genetic sites relating to the main susceptibility pathways (RET an EDNRB). \n",
       "Non-syndromic non-familial, short-segment HSCR appears to represent a \n",
       "non-Mendelian condition with variable expression and sex-dependent penetrance. \n",
       "Syndromic and familial forms, on the other hand, have complex patterns of \n",
       "inheritance and being reported as autosomal dominant, recessive and polygenic \n",
       "patterns of inheritance. The phenotypic variability and incomplete penetrance \n",
       "observed in Hirschsprung's disease could also be explained by the involvement of \n",
       "modifier genes, especially in its syndromic forms. In this review, we look at \n",
       "the chromosomal and Mendelian associations and their underlying signalling \n",
       "pathways, to obtain a better understanding of the pathogenetic mechanisms \n",
       "involved in developing aganglionosis of the distal bowel.<br>"
      ],
      "text/plain": [
       "<IPython.core.display.Markdown object>"
      ]
     },
     "metadata": {},
     "output_type": "display_data"
    }
   ],
   "source": [
    "from llama_index.core.response.notebook_utils import display_source_node\n",
    "\n",
    "print(queries[0])\n",
    "retrieved_nodes = bm25_retriever.retrieve(\n",
    "    queries[0]['question']\n",
    ")\n",
    "for node in retrieved_nodes[:2]:\n",
    "    display_source_node(node, source_length=5000)"
   ]
  },
  {
   "cell_type": "code",
   "execution_count": 26,
   "id": "_IEKkQukThPn",
   "metadata": {
    "id": "_IEKkQukThPn"
   },
   "outputs": [
    {
     "name": "stdout",
     "output_type": "stream",
     "text": [
      "{'question': 'Is Hirschsprung disease a mendelian or a multifactorial disorder?', 'answer': \"Coding sequence mutations in RET, GDNF, EDNRB, EDN3, and SOX10 are involved in the development of Hirschsprung disease. The majority of these genes was shown to be related to Mendelian syndromic forms of Hirschsprung's disease, whereas the non-Mendelian inheritance of sporadic non-syndromic Hirschsprung disease proved to be complex; involvement of multiple loci was demonstrated in a multiplicative model.\", 'relevant_passage_ids': '[20598273, 6650562, 15829955, 15617541, 23001136, 8896569, 21995290, 12239580, 15858239]', 'id': 0, 'relevant_passages': ['The major gene for Hirschsprung disease (HSCR) encodes the receptor tyrosine \\nkinase RET. In a study of 690 European- and 192 Chinese-descent probands and \\ntheir parents or controls, we demonstrate the ubiquity of a >4-fold \\nsusceptibility from a C-->T allele (rs2435357: p = 3.9 x 10(-43) in European \\nancestry; p = 1.1 x 10(-21) in Chinese samples) that probably arose once within \\nthe intronic RET enhancer MCS+9.7. With in vitro assays, we now show that the T \\nvariant disrupts a SOX10 binding site within MCS+9.7 that compromises RET \\ntransactivation. The T allele, with a control frequency of 20%-30%/47% and case \\nfrequency of 54%-62%/88% in European/Chinese-ancestry individuals, is involved \\nin all forms of HSCR. It is marginally associated with proband gender (p = 0.13) \\nand significantly so with length of aganglionosis (p = 7.6 x 10(-5)) and \\nfamiliality (p = 6.2 x 10(-4)). The enhancer variant is more frequent in the \\ncommon forms of male, short-segment, and simplex families whereas multiple, \\nrare, coding mutations are the norm in the less common and more severe forms of \\nfemale, long-segment, and multiplex families. The T variant also increases \\npenetrance in patients with rare RET coding mutations. Thus, both rare and \\ncommon mutations, individually and together, make contributions to the risk of \\nHSCR. The distribution of RET variants in diverse HSCR patients suggests a \\n\"cellular-recessive\" genetic model where both RET alleles\\' function is \\ncompromised. The RET allelic series, and its genotype-phenotype correlations, \\nshows that success in variant identification in complex disorders may strongly \\ndepend on which patients are studied.', 'nan', 'nan', \"Hirschsprung's disease is characterized by the absence of ganglion cells in the \\nmyenteric and submucosal plexuses of the gastrointestinal tract. Genetic \\ndissection was successful as nine genes and four loci for Hirschsprung's disease \\nsusceptibility were identified. Different approaches were used to find these \\nloci such as classical linkage in large families, identity by descent mapping in \\nan inbred kindred, candidate gene approaches based on naturally occurring mutant \\nmice models, and finally the use of model-free linkage and association analyzes. \\nIn this study, we review the identification of genes and loci involved in the \\nnon-syndromic common form and syndromic Mendelian forms of Hirschsprung's \\ndisease. The majority of the identified genes are related to Mendelian syndromic \\nforms of Hirschsprung's disease. The non-Mendelian inheritance of sporadic \\nnon-syndromic Hirschsprung's disease proved to be complex; involvement of \\nmultiple loci was demonstrated in a multiplicative model. We discuss the \\npractical implications of the elucidation of genes associated with \\nHirschsprung's disease susceptibility for genetic counseling. Finally, we \\nspeculate on possible strategies to identify new genes for Hirschsprung's \\ndisease.\", \"Hirschsprung's disease (HSCR) is a fairly frequent cause of intestinal \\nobstruction in children. It is characterized as a sex-linked heterogonous \\ndisorder with variable severity and incomplete penetrance giving rise to a \\nvariable pattern of inheritance. Although Hirschsprung's disease occurs as an \\nisolated phenotype in at least 70% of cases, it is not infrequently associated \\nwith a number of congenital abnormalities and associated syndromes, \\ndemonstrating a spectrum of congenital anomalies. Certain of these syndromic \\nphenotypes have been linked to distinct genetic sites, indicating underlying \\ngenetic associations of the disease and probable gene-gene interaction, in its \\npathogenesis. These associations with HSCR include Down's syndrome and other \\nchromosomal anomalies, Waardenburg syndrome and other Dominant sensorineural \\ndeafness, the Congenital Central Hypoventilation and Mowat-Wilson and other \\nbrain-related syndromes, as well as the MEN2 and other tumour associations. A \\nnumber of other autosomal recessive syndromes include the Shah-Waardenburg, the \\nBardet-Biedl and Cartilage-hair hypoplasia, Goldberg-Shprintzen syndromes and \\nother syndromes related to cholesterol and fat metabolism among others. The \\ngenetics of Hirschsprung's disease are highly complex with the majority of known \\ngenetic sites relating to the main susceptibility pathways (RET an EDNRB). \\nNon-syndromic non-familial, short-segment HSCR appears to represent a \\nnon-Mendelian condition with variable expression and sex-dependent penetrance. \\nSyndromic and familial forms, on the other hand, have complex patterns of \\ninheritance and being reported as autosomal dominant, recessive and polygenic \\npatterns of inheritance. The phenotypic variability and incomplete penetrance \\nobserved in Hirschsprung's disease could also be explained by the involvement of \\nmodifier genes, especially in its syndromic forms. In this review, we look at \\nthe chromosomal and Mendelian associations and their underlying signalling \\npathways, to obtain a better understanding of the pathogenetic mechanisms \\ninvolved in developing aganglionosis of the distal bowel.\", 'nan', 'nan', 'Hirschsprung disease (HSCR), or congenital intestinal aganglionosis, is a common \\nhereditary disorder causing intestinal obstruction, thereby showing considerable \\nphenotypic variation in conjunction with complex inheritance. Moreover, \\nphenotypic assessment of the disease has been complicated since a subset of the \\nobserved mutations is also associated with several additional syndromic \\nanomalies. Coding sequence mutations in e.g. RET, GDNF, EDNRB, EDN3, and SOX10 \\nlead to long-segment (L-HSCR) as well as syndromic HSCR but fail to explain the \\ntransmission of the much more common short-segment form (S-HSCR). Furthermore, \\nmutations in the RET gene are responsible for approximately half of the familial \\nand some sporadic cases, strongly suggesting, on the one hand, the importance of \\nnon-coding variations and, on the other hand, that additional genes involved in \\nthe development of the enteric nervous system still await their discovery. For \\nalmost all of the identified HSCR genes incomplete penetrance of the HSCR \\nphenotype has been reported, probably due to modifier loci. Therefore, HSCR has \\nbecome a model for a complex oligo-/polygenic disorder in which the relationship \\nbetween different genes creating a non-mendelian inheritance pattern still \\nremains to be elucidated.', 'nan']}\n",
      "{'question': 'List signaling molecules (ligands) that interact with the receptor EGFR?', 'answer': 'The 7 known EGFR ligands  are: epidermal growth factor (EGF), betacellulin (BTC), epiregulin (EPR), heparin-binding EGF (HB-EGF), transforming growth factor-α [TGF-α], amphiregulin (AREG) and epigen (EPG).', 'relevant_passage_ids': '[23821377, 24323361, 23382875, 22247333, 23787814, 22260327, 23888072, 23959273, 24124521, 23729230, 23089711, 21514161, 23212918, 23099994, 24204699, 23399900]', 'id': 1, 'relevant_passages': ['nan', 'Pituitary adenylate cyclase-activating polypeptide (PACAP), a neuropeptide with \\ntrophic and cytoprotective effects, has been shown to affect cell survival, \\nproliferation, and also differentiation of various cell types. The high PACAP \\nlevel in the milk and its changes during lactation suggest a possible effect of \\nPACAP on the differentiation of mammary epithelial cells. Mammary cell \\ndifferentiation is regulated by hormones, growth factors, cytokines/chemokines, \\nand angiogenic proteins. In this study, differentiation was hormonally induced \\nby lactogenic hormones in confluent cultures of HC11 mouse mammary epithelial \\ncells. We investigated the effect of PACAP on mammary cell differentiation as \\nwell as release of cytokines, chemokines, and growth factors. Differentiation \\nwas assessed by expression analysis of the milk protein β-casein. \\nDifferentiation significantly decreased the secretion of interferon gammainduced \\nprotein (IP)-10, \"regulated upon activation normal T cell expressed and \\npresumably secreted\" (RANTES), insulin-like growth factor-binding protein \\n(IGFBP)-3 and the epidermal growth factor receptor (EGFR) ligands, such as \\nepidermal growth factor (EGF) and amphiregulin (AREG). The changes in the levels \\nof IP-10 and RANTES may be relevant for the alterations in homing of T cells and \\nB cells at different stages of mammary gland development, while the changes of \\nthe EGFR ligands may facilitate the switch from proliferative to lactating \\nstage. PACAP did not modulate the expression of β-casein or the activity of \\nhormone-induced pathways as determined by the analysis of phosphorylation of \\nAkt, STAT5, and p38 MAPK. However, PACAP decreased the release of EGF and AREG \\nfrom non-differentiated cells. This may influence the extracellular \\nsignal-related transactivation of EGFR in the non-differentiated mammary \\nepithelium and is considered to have an impact on the modulation of oncogenic \\nEGFR signaling in breast cancer.', 'The epidermal growth factor receptor (EGFR) is a member of the receptor tyrosine \\nkinase family that plays a role in multiple cellular processes. Activation of \\nEGFR requires binding of a ligand on the extracellular domain to promote \\nconformational changes leading to dimerization and transphosphorylation of \\nintracellular kinase domains. Seven ligands are known to bind EGFR with \\naffinities ranging from sub-nanomolar to near micromolar dissociation constants. \\nIn the case of EGFR, distinct conformational states assumed upon binding a \\nligand is thought to be a determining factor in activation of a downstream \\nsignaling network. Previous biochemical studies suggest the existence of both \\nlow affinity and high affinity EGFR ligands. While these studies have identified \\nfunctional effects of ligand binding, high-resolution structural data are \\nlacking. To gain a better understanding of the molecular basis of EGFR binding \\naffinities, we docked each EGFR ligand to the putative active state \\nextracellular domain dimer and 25.0 ns molecular dynamics simulations were \\nperformed. MM-PBSA/GBSA are efficient computational approaches to approximate \\nfree energies of protein-protein interactions and decompose the free energy at \\nthe amino acid level. We applied these methods to the last 6.0 ns of each \\nligand-receptor simulation. MM-PBSA calculations were able to successfully rank \\nall seven of the EGFR ligands based on the two affinity classes: \\nEGF>HB-EGF>TGF-α>BTC>EPR>EPG>AR. Results from energy decomposition identified \\nseveral interactions that are common among binding ligands. These findings \\nreveal that while several residues are conserved among the EGFR ligand family, \\nno single set of residues determines the affinity class. Instead we found \\nheterogeneous sets of interactions that were driven primarily by electrostatic \\nand Van der Waals forces. These results not only illustrate the complexity of \\nEGFR dynamics but also pave the way for structure-based design of therapeutics \\ntargeting EGF ligands or the receptor itself.', 'nan', 'Intrahepatic cholangiocarcinoma (CCA) is characterized by an abundant \\ndesmoplastic environment. Poor prognosis of CCA has been associated with the \\npresence of alpha-smooth muscle actin (α-SMA)-positive myofibroblasts (MFs) in \\nthe stroma and with the sustained activation of the epidermal growth factor \\nreceptor (EGFR) in tumor cells. Among EGFR ligands, heparin-binding epidermal \\ngrowth factor (HB-EGF) has emerged as a paracrine factor that contributes to \\nintercellular communications between MFs and tumor cells in several cancers. \\nThis study was designed to test whether hepatic MFs contributed to CCA \\nprogression through EGFR signaling. The interplay between CCA cells and hepatic \\nMFs was examined first in vivo, using subcutaneous xenografts into \\nimmunocompromised mice. In these experiments, cotransplantation of CCA cells \\nwith human liver myofibroblasts (HLMFs) increased tumor incidence, size, and \\nmetastatic dissemination of tumors. These effects were abolished by gefitinib, \\nan EGFR tyrosine kinase inhibitor. Immunohistochemical analyses of human CCA \\ntissues showed that stromal MFs expressed HB-EGF, whereas EGFR was detected in \\ncancer cells. In vitro, HLMFs produced HB-EGF and their conditioned media \\ninduced EGFR activation and promoted disruption of adherens junctions, migratory \\nand invasive properties in CCA cells. These effects were abolished in the \\npresence of gefitinib or HB-EGF-neutralizing antibody. We also showed that CCA \\ncells produced transforming growth factor beta 1, which, in turn, induced HB-EGF \\nexpression in HLMFs.\\nCONCLUSION: A reciprocal cross-talk between CCA cells and myofibroblasts through \\nthe HB-EGF/EGFR axis contributes to CCA progression.', 'nan', 'PURPOSE: The aim of this study was to investigate the biological and clinical \\nsignificance of epidermal growth factor receptor (EGFR) signaling pathway in \\nfollicular dendritic cell sarcoma (FDC-S).\\nEXPERIMENTAL DESIGN: Expression of EGFR and cognate ligands as well as \\nactivation of EGFR signaling components was assessed in clinical samples and in \\na primary FDC-S short-term culture (referred as FDC-AM09). Biological effects of \\nthe EGFR antagonists cetuximab and panitumumab and the MEK inhibitor UO126 on \\nFDC-S cells were determined in vitro on FDC-AM09. Direct sequencing of KRAS, \\nBRAF, and PI3KCA was conducted on tumor DNA.\\nRESULTS: We found a strong EGFR expression on dysplastic and neoplastic FDCs. On \\nFDC-AM09, we could show that engagement of surface EGFR by cognate ligands \\ndrives the survival and proliferation of FDC-S cells, by signaling to the \\nnucleus mainly via MAPK and STAT pathways. Among EGFR ligands, heparin-binding \\nEGF-like growth factor, TGF-α and Betacellulin (BTC) are produced in the tumor \\nmicroenvironment of FDC-S at RNA level. By extending this finding at protein \\nlevel we found that BTC is abundantly produced by FDC-S cells and surrounding \\nstromal cells. Finally, direct sequencing of tumor-derived genomic DNA showed \\nthat mutations in KRAS, NRAS, BRAF, and PI3KCA, which predicts resistance to \\nanti-EGFR MoAb in other cancer models, are not observed in FDC-S.\\nCONCLUSION: Activation of EGFR by cognate ligands produced in the tumor \\nmicroenvironment sustain viability and proliferation of FDC-S indicating that \\nthe receptor blockade might be clinically relevant in this neoplasm.', 'nan', 'Based on gene expression patterns, breast cancers can be divided into subtypes \\nthat closely resemble various developmental stages of normal mammary epithelial \\ncells (MECs). Thus, understanding molecular mechanisms of MEC development is \\nexpected to provide critical insights into initiation and progression of breast \\ncancer. Epidermal growth factor receptor (EGFR) and its ligands play essential \\nroles in normal and pathological mammary gland. Signals through EGFR is required \\nfor normal mammary gland development. Ligands for EGFR are over-expressed in a \\nsignificant proportion of breast cancers, and elevated expression of EGFR is \\nassociated with poorer clinical outcome. In the present study, we examined the \\neffect of signals through EGFR on MEC differentiation using the human telomerase \\nreverse transcriptase (hTERT)-immortalized human stem/progenitor MECs which \\nexpress cytokeratin 5 but lack cytokeratin 19 (K5(+)K19(-) hMECs). As reported \\npreviously, these cells can be induced to differentiate into luminal and \\nmyoepithelial cells under appropriate culture conditions. K5(+)K19(-) hMECs \\nacquired distinct cell fates in response to EGFR ligands epidermal growth factor \\n(EGF), amphiregulin (AREG) and transforming growth factor alpha (TGFα) in \\ndifferentiation-promoting MEGM medium. Specifically, presence of EGF during in \\nvitro differentiation supported development into both luminal and myoepithelial \\nlineages, whereas cells differentiated only towards luminal lineage when EGF was \\nreplaced with AREG. In contrast, substitution with TGFα led to differentiation \\nonly into myoepithelial lineage. Chemical inhibition of the MEK-Erk pathway, but \\nnot the phosphatidylinositol 3-kinase (PI3K)-AKT pathway, interfered with \\nK5(+)K19(-) hMEC differentiation. The present data validate the utility of the \\nK5(+)K19(-) hMEC cells for modeling key features of human MEC differentiation. \\nThis system should be useful in studying molecular/biochemical mechanisms of \\nhuman MEC differentiation.', 'The epidermal growth factor receptor (EGFR) is frequently expressed in \\ntriple-negative breast cancer (TNBC) and is a marker of poor prognosis in this \\npatient population. Because activating mutations in this kinase are very rare \\nevents in breast cancer, we screened breast tumor gene expression profiles to \\nexamine the distribution of EGFR ligand expression. Of the six known EGFR \\nligands, transforming growth factor alpha (TGFα) was expressed more highly in \\ntriple-negative breast tumors than in tumors of other subtypes. TGFα is \\nsynthesized as a transmembrane precursor requiring tumor necrosis factor alpha \\nconverting enzyme (TACE)/ADAM17-dependent proteolytic release to activate its \\nreceptor. In our study, we show that an inhibitor of this proteolytic release \\nblocks invasion, migration and colony formation by several TNBC cell lines. Each \\nof the effects of the drug was reversed upon expression of a soluble TGFα mutant \\nthat does not require TACE activity, implicating this growth factor as a key \\nmetalloproteinase substrate for these phenotypes. Together, these data \\ndemonstrate that TACE-dependent TGFα shedding is a key process driving EGFR \\nactivation and subsequent proliferation and invasion in TNBC cell lines.', 'BACKGROUND: In this study the total and phosphorylated amount of epidermal \\ngrowth factor receptor 1 (EGFR) and 2 (HER2) were measured together with EGFR \\nligands in tissue samples of breast cancer patients in order to investigate \\ninterrelations and possible prognostic values.\\nMETHODS: Samples of malignant and non-cancer autologous reference tissue were \\ncollected from 415 breast cancer patients. The tissue samples were cut and \\neither paraffin-embedded or homogenized in a lysis buffer to extract the \\nproteins. HER2 was measured using both immunohistochemistry (IHC)/fluorescence \\nin situ hybridization (FISH) and ADVIA Centaur. Phosphorylated HER2 and EGFR \\n(pHER2, pEGFR), total EGFR and the ligands: epidermal growth factor (EGF), \\ntransforming growth factor-α (TGFα), amphiregulin (AREG), heparin-binding \\nEGF-like growth factor (HB-EGF), betacellulin (BTC) and epiregulin (EREG) were \\nmeasured using the Luminex.\\nRESULTS: The HER2 positivity rate was determined to be 25.2% by the Centaur \\nmethod vs. 15.8% by IHC and FISH. HER2, HB-EGF, TGFα and AREG were upregulated \\nin cancer tissue as compared with autologous reference tissue while EGFR, pEGFR \\nand EGF were downregulated (p<10-6). pEGFR in autologous reference tissue was \\nnegatively correlated to the number of positive lymph nodes and to the tumor \\nsize (p=0.0007 and p=0.001, respectively) and furthermore, decreased in the \\ngroup of mastectomy operated patients as compared with the lumpectomy group \\n(p<10-6). HB-EGF in cancer tissue was positively associated with high grade \\ntumors (p<10-6) and pHER2, HB-EGF and BTC were associated with poor disease free \\nsurvival (p=0.017, p=0.012 and p=0.0026, respectively).\\nCONCLUSIONS: Our study demonstrated a profound activation of the EGFR system. \\nHB-EGF was increased by factor 10 in cancer tissue and related to the biological \\naggressiveness of the tumors, and pHER2, HB-EGF and BTC were associated with \\npoor clinical outcome.', 'Autocrine, paracrine, and juxtacrine are recognized modes of action for \\nmammalian EGFR ligands including EGF, TGF-α (TGFα), amphiregulin (AREG), \\nheparin-binding EGF-like growth factor (HB-EGF), betacellulin, epiregulin, and \\nepigen. We identify a new mode of EGFR ligand signaling via exosomes. Human \\nbreast and colorectal cancer cells release exosomes containing full-length, \\nsignaling-competent EGFR ligands. Exosomes isolated from MDCK cells expressing \\nindividual full-length EGFR ligands displayed differential activities; AREG \\nexosomes increased invasiveness of recipient breast cancer cells 4-fold over \\nTGFα or HB-EGF exosomes and 5-fold over equivalent amounts of recombinant AREG. \\nExosomal AREG displayed significantly greater membrane stability than TGFα or \\nHB-EGF. An average of 24\\xa0AREG molecules are packaged within an individual \\nexosome, and AREG exosomes are rapidly internalized by recipient cells. Whether \\nthe composition and behavior of exosomes differ between nontransformed and \\ntransformed cells is unknown. Exosomes from DLD-1\\xa0colon cancer cells with a \\nmutant KRAS allele exhibited both higher AREG levels and greater invasive \\npotential than exosomes from isogenically matched, nontransformed cells in which \\nmutant KRAS was eliminated by homologous recombination. We speculate that EGFR \\nligand signaling via exosomes might contribute to diverse cancer phenomena such \\nas field effect and priming of the metastatic niche.', 'Prolidase, also known as Xaa-Pro dipeptidase or peptidase D (PEPD), is a \\nubiquitously expressed cytosolic enzyme that hydrolyzes dipeptides with proline \\nor hydroxyproline at the carboxyl terminus. In this article, however, we \\ndemonstrate that PEPD directly binds to and activates epidermal growth factor \\nreceptor (EGFR), leading to stimulation of signaling proteins downstream of \\nEGFR, and that such activity is neither cell-specific nor dependent on the \\nenzymatic activity of PEPD. In line with the pro-survival and pro-proliferation \\nactivities of EGFR, PEPD stimulates DNA synthesis. We further show that PEPD \\nactivates EGFR only when it is present in the extracellular space, but that PEPD \\nis released from injured cells and tissues and that such release appears to \\nresult in EGFR activation. PEPD differs from all known EGFR ligands in that it \\ndoes not possess an epidermal growth factor (EGF) motif and is not synthesized \\nas a transmembrane precursor, but PEPD binding to EGFR can be blocked by EGF. In \\nconclusion, PEPD is a ligand of EGFR and presents a novel mechanism of EGFR \\nactivation.', 'PURPOSE: Although KRAS mutation has been identified as a negative predictive \\nbiomarker of anti-EGFR antibodies in metastatic colorectal cancer (mCRC), the \\nefficacy in mCRC patients with KRAS wild-type status remains limited. Anti-EGFR \\nantibodies work by blocking ligand binding, but the significance of EGFR ligands \\nin mCRC has not been completely described. This study was conducted to identify \\nthe correlation between all seven EGFR ligands and clinical outcomes in mCRC \\ntreated with anti-EGFR antibodies. Furthermore, we determined an appropriate \\npredictive strategy for anti-EGFR antibodies using these EGFR ligands.\\nMETHODS: Among 36 mCRC patients who had been treated with cetuximab or \\npanitumumab, we identified 26 mCRC patients with wild-type KRAS status treated \\nproperly as the second and further lines and analyzed the relationship between \\nimmunoreactivity to seven EGFR ligands and clinical outcomes.\\nRESULTS: Good clinical outcomes were associated with immunoreactivity against \\namphiregulin (AR), heparin-binding epidermal growth factor (HB-EGF), \\ntransforming growth factor-α (TGF-α), and epiregulin (EREG). Further, patients \\nwith immunoreactivity to greater than two of these four ligands (AR, HB-EGF, \\nTGF-α, and EREG) had significantly higher response rate (53.3 vs. 0.0 %, p = \\n0.004) and disease control rate (93.3 vs. 9.0 %, p = 0.00002) and longer \\nprogression-free survival (median PFS: 231 vs. 79 days, p = 0.000008), when \\ncompared with patients with immunoreactivity against zero or one ligand.\\nCONCLUSIONS: Immunohistochemical analysis of four EGFR ligands (AR, HB-EGF, \\nTGF-α, and EREG) might be a novel predictive biomarker and may help optimize \\npatient selection for cetuximab and panitumumab therapy in patients with mCRC.', 'BACKGROUND: Epidermal growth factor receptor (EGFR) activation plays a role in \\ncolorectal cancer (CRC) carcinogenesis, and anti-EGFR drugs are used in \\ntreatment of advanced CRC. One of the EGFR ligands is tumor-associated \\ntrypsinogen inhibitor TATI, also called serine protease inhibitor Kazal type1 \\n(SPINK 1), which we recently showed to be an independent prognostic marker in \\nCRC.\\nMETHODS: We studied the prognostic value of immunohistochemical expression of \\nEGFR and concomitant expression of EGFR and TATI/SPINK1 in a series of 619 \\ncolorectal cancer patients.\\nRESULTS: Of the samples, 92% were positive for EGFR. EGFR+/TATI+ was seen in \\n62.8%, EGFR+/TATI- in 29.5%, EGFR-/TATI+ in 4.9%, and EGFR-/TATI- in 2.7% of \\npatients. EGFR expression correlated with WHO grade (p = 0.040). In univariate \\nanalysis, EGFR expression correlated with favourable survival (p = 0.006). \\nEGFR+/TATI+ patients showed better survival than did those with other \\ncombinations (p<0.001). In multivariate analysis, EGFR+/TATI+ was an independent \\nprognostic factor of favourable prognosis (p<0.001).\\nCONCLUSION: Concomitant positivity of EGFR and TATI/SPINK1 predicts favourable \\nprognosis in CRC.', 'Aberrant epidermal growth factor receptor (EGFR) expression promotes the \\npathogenesis of malignant peripheral nerve sheath tumors (MPNSTs), the most \\ncommon malignancy associated with neurofibromatosis type 1, but the mechanisms \\nby which EGFR expression promotes MPNST pathogenesis are poorly understood. We \\nhypothesized that inappropriately expressed EGFRs promote MPNST invasion and \\nfound that these kinases are concentrated in MPNST invadopodia in vitro. \\nEpidermal growth factor receptor knockdown inhibited the migration of \\nunstimulated MPNST cells in vitro, and exogenous EGF further enhanced MPNST \\nmigration in a substrate-specific manner, promoting migration on laminin and, to \\na lesser extent, collagen. In this setting, EGF acts as a chemotactic factor. We \\nalso found that the 7 known EGFR ligands (EGF, betacellulin, epiregulin, \\nheparin-binding EGF, transforming growth factor-α [TGF-α], amphiregulin, and \\nepigen) variably enhanced MPNST migration in a concentration-dependent manner, \\nwith TGF-α being particularly potent. With the exception of epigen, these \\nfactors similarly promoted the migration of nonneoplastic Schwann cells. \\nAlthough transcripts encoding all 7 EGFR ligands were detected in human MPNST \\ncells and tumor tissues, only TGF-α was consistently overexpressed and was found \\nto colocalize with EGFR in situ. These data indicate that constitutive EGFR \\nactivation, potentially driven by autocrine or paracrine TGF-α signaling, \\npromotes the aggressive invasive behavior characteristic of MPNSTs.']}\n",
      "{'question': 'Is the protein Papilin secreted?', 'answer': 'Yes,  papilin is a secreted protein', 'relevant_passage_ids': '[21784067, 19297413, 15094122, 7515725, 3320045, 20805556, 19724244, 12666201, 15094110, 11076767]', 'id': 2, 'relevant_passages': ['Cell invasion through basement membrane is a specialized cellular behavior \\ncritical for many developmental processes and leukocyte trafficking. Invasive \\ncellular behavior is also inappropriately co-opted during cancer progression. \\nAcquisition of an invasive phenotype is accompanied by changes in gene \\nexpression that are thought to coordinate the steps of invasion. The \\ntranscription factors responsible for these changes in gene expression, however, \\nare largely unknown. C. elegans anchor cell (AC) invasion is a genetically \\ntractable in vivo model of invasion through basement membrane. AC invasion \\nrequires the conserved transcription factor FOS-1A, but other transcription \\nfactors are thought to act in parallel to FOS-1A to control invasion. Here we \\nidentify the transcription factor HLH-2, the C. elegans ortholog of Drosophila \\nDaughterless and vertebrate E proteins, as a regulator of AC invasion. Reduction \\nof HLH-2 function by RNAi or with a hypomorphic allele causes defects in AC \\ninvasion. Genetic analysis indicates that HLH-2 has functions outside of the \\nFOS-1A pathway. Using expression analysis, we identify three genes that are \\ntranscriptionally regulated by HLH-2: the protocadherin cdh-3, and two genes \\nencoding secreted extracellular matrix proteins, mig-6/papilin and \\nhim-4/hemicentin. Further, we show that reduction of HLH-2 function causes \\ndefects in polarization of F-actin to the invasive cell membrane, a process \\nrequired for the AC to generate protrusions that breach the basement membrane. \\nThis work identifies HLH-2 as a regulator of the invasive phenotype in the AC, \\nadding to our understanding of the transcriptional networks that control cell \\ninvasion.', 'The gonad arms of C. elegans hermaphrodites acquire invariant shapes by guided \\nmigrations of distal tip cells (DTCs), which occur in three phases that differ \\nin the direction and basement membrane substrata used for movement. We found \\nthat mig-6 encodes long (MIG-6L) and short (MIG-6S) isoforms of the \\nextracellular matrix protein papilin, each required for distinct aspects of DTC \\nmigration. Both MIG-6 isoforms have a predicted N-terminal papilin cassette, \\nlagrin repeats and C-terminal Kunitz-type serine proteinase inhibitory domains. \\nWe show that mutations affecting MIG-6L specifically and cell-autonomously \\ndecrease the rate of post-embryonic DTC migration, mimicking a post-embryonic \\ncollagen IV deficit. We also show that MIG-6S has two separable functions - one \\nin embryogenesis and one in the second phase of DTC migration. Genetic data \\nsuggest that MIG-6S functions in the same pathway as the MIG-17/ADAMTS \\nmetalloproteinase for guiding phase 2 DTC migrations, and MIG-17 is abnormally \\nlocalized in mig-6 class-s mutants. Genetic data also suggest that MIG-6S and \\nnon-fibrillar network collagen IV play antagonistic roles to ensure normal phase \\n2 DTC guidance.', 'Papilins are homologous, secreted extracellular matrix proteins which share a \\ncommon order of protein domains. They occur widely, from nematodes to man, and \\ncan differ in the number of repeats of a given type of domain. Within one \\nspecies the number of repeats can vary by differential RNA splicing. A \\ndistinctly conserved cassette of domains at the amino-end of papilins is \\nhomologous with a cassette of protein domains at the carboxyl-end of the ADAMTS \\nsubgroup of secreted, matrix-associated metalloproteases. Papilins primarily \\noccur in basement membranes. Papilins interact with several extracellular matrix \\ncomponents and ADAMTS enzymes. Papilins are essential for embryonic development \\nof Drosophila melanogaster and Caenorhabditis elegans.', 'Two contrasting substrates, Drosophila laminin and human vitronectin, caused \\ndetermined primary Drosophila embryo cells to follow alternate intermediate \\ndifferentiation steps without affecting the final outcome of differentiation. \\nIntegrin alpha PS2 beta PS3 was essential for the initial spreading of myocytes \\non vitronectin: focal contacts rich in beta PS3 integrins formed and were \\nconnected by actin- and myosin-containing stress fibers. While alpha PS2 beta \\nPS3 was unnecessary for myotube formation on laminin, it was required for the \\nsubsequent change to a sarcomeric cytoarchitecture. The differentiating primary \\ncultures synthesized integrins and assembled them into detergent-insoluble, \\ncytoskeleton-associated complexes. Collagen IV, laminin, glutactin, papilin, and \\nother extracellular matrix proteins were made primarily by hemocytes and were \\nsecreted into the medium. Further differentiation within the cultures was \\ninfluenced by secreted components and by later addition of vitronectin or bovine \\nserum. Comparison of the differentiation of various cell types on the two \\nsubstrates showed that vitronectin provided a selective advantage for the \\ndifferentiation of myocytes, with enrichment over epithelia, epidermal cells, \\nand neurites.', 'A sulfated glycoprotein was isolated from the culture media of Drosophila Kc \\ncells and named papilin. Affinity purified antibodies against this protein \\nlocalized it primarily to the basement membranes of embryos. The antibodies \\ncross-reacted with another material which was not sulfated and appeared to be \\nthe core protein of papilin, which is proteoglycan-like. After reduction, \\npapilin electrophoresed in sodium dodecyl sulfate-polyacrylamide gel \\nelectrophoresis as a broad band of about 900,000 apparent molecular weight and \\nthe core protein as a narrow band of approximately 400,000. The core protein was \\nformed by some cell lines and by other cells on incubation with 1 mM \\n4-methylumbelliferyl xyloside, which inhibited formation of the \\nproteoglycan-like form. The buoyant density of papilin in CsCl/4 M guanidine \\nhydrochloride is 1.4 g/ml, that of the core protein is much less. Papilin forms \\noligomers linked by disulfide bridges, as shown by sodium dodecyl \\nsulfate-agarose gel electrophoresis and electron microscopy. The protomer is a \\n225 +/- 15-nm thread which is disulfide-linked into a loop with fine, protruding \\nthread ends. Oligomers form clover-leaf-like structures. The protein contains \\n22% combined serine and threonine residues and 25% combined aspartic and \\nglutamic residues. 10 g of polypeptide has attached 6.4 g of glucosamine, 3.1 g \\nof galactosamine, 6.1 g of uronic acid, and 2.7 g of neutral sugars. There are \\nabout 80 O-linked carbohydrate chains/core protein molecule. Sulfate is attached \\nto these chains. The O-linkage is through an unidentified neutral sugar. Papilin \\nis largely resistant to common glycosidases and several proteases. The degree of \\nsulfation varies with the sulfate concentration of the incubation medium. This \\nproteoglycan-like glycoprotein differs substantially from corresponding \\nproteoglycans found in vertebrate basement membranes, in contrast to Drosophila \\nbasement membrane laminin and collagen IV which have been conserved \\nevolutionarily.', 'nan', \"OBJECTIVES: Suicidal ideation is an uncommon but worrisome symptom than can \\nemerge during antidepressant treatment. We have described earlier the \\nassociation between treatment-emergent suicidal ideation (TESI) and markers in \\ngenes encoding glutamate receptor subunits GRIK2 and GRIA3. The present \\ngenome-wide association study was conducted to identify additional genetic \\nmarkers associated with TESI that may help identify individuals at high risk who \\nmay benefit from closer monitoring, alternative treatments, and/or specialty \\ncare.\\nMETHODS: A clinically representative cohort of outpatients with nonpsychotic \\nmajor depressive disorder enrolled in the Sequenced Treatment Alternatives to \\nRelieve Depression (STAR*D) trial were treated with citalopram under a standard \\nprotocol for up to 14 weeks. DNA samples from 90 White participants who \\ndeveloped TESI and a sex-matched and race-matched equal number of treated \\nparticipants who denied any suicidal ideas were genotyped with 109 365 single \\nnucleotide polymorphisms on the Illumina's Human-1 BeadChip.\\nRESULTS: One marker was found to be associated with TESI in this sample at the \\nexperiment-wide adjusted P less than 0.05 level (marker rs11628713, allelic P = \\n6.2x10, odds ratio = 4.7, permutation P = 0.01). A second marker was associated \\nat the experiment-wide adjusted P = 0.06 level (rs10903034, allelic P = 3.02x10, \\nodds ratio = 2.7, permutation P = 0.06). These markers reside within the genes \\nPAPLN and IL28RA, respectively. PAPLN encodes papilin, a protoglycan-like \\nsulfated glycoprotein. IL28RA encodes an interleukin receptor.\\nCONCLUSION: Together with our earlier report, these findings may shed light on \\nthe biological basis of TESI and may help identify patients at increased risk of \\nthis potentially serious adverse event.\", 'Papilins are extracellular matrix proteins that share a particular, common order \\nof types of protein domains. They occur widely, from nematodes to man, and can \\ndiffer in the number of repeats of a given type of domain. Protein variety is \\nincreased by differential splicing of pre-mRNA. We report that Drosophila, which \\nhas a compact genome, expresses three splice variants of papilin during \\nembryogenesis in developmentally defined patterns. These isoforms have different \\nnumbers of Kunitz and IgC2 domains. The papilin isoforms are expressed in \\nspecific cell types and contribute to different extracellular matrices in \\ngastrulation folds, early mesoderm, heart formation, basement membranes, and \\nelaboration of the excorporeal peritrophic membrane that lines the gut. This \\nfinding indicates an unexpectedly broad spectrum of different pericellular \\nmatrices in Drosophila embryos. Such papilin-containing matrices have \\ndevelopmental as well as functional significance, as we previously showed that \\nboth suppression of papilin synthesis and ectopic overexpression lethally \\ndisrupt organogenesis.', 'The TSR superfamily is a diverse family of extracellular matrix and \\ntransmembrane proteins, many of which have functions related to regulating \\nmatrix organization, cell-cell interactions and cell guidance. This review \\nsamples some of the contemporary literature regarding TSR superfamily members \\n(e.g. F-spondin, UNC-5, ADAMTS, papilin, and TRAP) where specific functions are \\nassigned to the TSR domains. Combining these observations with the published \\ncrystal structure of the TSRs of thrombospondin-1 may hold a key to the \\ndevelopment of therapeutic agents for fighting parasitic infection and tumor \\ngrowth.', \"Papilin is an extracellular matrix glycoprotein that we have found to be \\ninvolved in, (1) thin matrix layers during gastrulation, (2) matrix associated \\nwith wandering, phagocytic hemocytes, (3) basement membranes and (4) \\nspace-filling matrix during Drosophila development. Determination of its cDNA \\nsequence led to the identification of Caenorhabditis and mammalian papilins. A \\ndistinctly conserved 'papilin cassette' of domains at the amino-end of papilins \\nis also the carboxyl-end of the ADAMTS subgroup of secreted, matrix-associated \\nmetalloproteinases; this cassette contains one thrombospondin type 1 (TSR) \\ndomain, a specific cysteine-rich domain and several partial TSR domains. In \\nvitro, papilin non-competitively inhibits procollagen N-proteinase, an ADAMTS \\nmetalloproteinase. Inhibiting papilin synthesis in Drosophila or Caenorhabditis \\ncauses defective cell arrangements and embryonic death. Ectopic expression of \\npapilin in Drosophila causes lethal abnormalities in muscle, Malpighian tubule \\nand trachea formation. We suggest that papilin influences cell rearrangements \\nand may modulate metalloproteinases during organogenesis.\"]}\n",
      "{'question': 'Are long non coding RNAs spliced?', 'answer': 'Long non coding RNAs appear to be spliced through the same pathway as the mRNAs', 'relevant_passage_ids': '[22955974, 21622663, 22707570, 22955988, 24285305, 24106460]', 'id': 3, 'relevant_passages': ['Splicing remains an incompletely understood process. Recent findings suggest \\nthat chromatin structure participates in its regulation. Here, we analyze the \\nRNA from subcellular fractions obtained through RNA-seq in the cell line K562. \\nWe show that in the human genome, splicing occurs predominantly during \\ntranscription. We introduce the coSI measure, based on RNA-seq reads mapping to \\nexon junctions and borders, to assess the degree of splicing completion around \\ninternal exons. We show that, as expected, splicing is almost fully completed in \\ncytosolic polyA+ RNA. In chromatin-associated RNA (which includes the RNA that \\nis being transcribed), for 5.6% of exons, the removal of the surrounding introns \\nis fully completed, compared with 0.3% of exons for which no intron-removal has \\noccurred. The remaining exons exist as a mixture of spliced and fewer unspliced \\nmolecules, with a median coSI of 0.75. Thus, most RNAs undergo splicing while \\nbeing transcribed: \"co-transcriptional splicing.\" Consistent with \\nco-transcriptional spliceosome assembly and splicing, we have found significant \\nenrichment of spliceosomal snRNAs in chromatin-associated RNA compared with \\nother cellular RNA fractions and other nonspliceosomal snRNAs. CoSI scores \\ndecrease along the gene, pointing to a \"first transcribed, first spliced\" rule, \\nyet more downstream exons carry other characteristics, favoring rapid, \\nco-transcriptional intron removal. Exons with low coSI values, that is, in the \\nprocess of being spliced, are enriched with chromatin marks, consistent with a \\nrole for chromatin in splicing during transcription. For alternative exons and \\nlong noncoding RNAs, splicing tends to occur later, and the latter might remain \\nunspliced in some cases.', 'nan', 'Thousands of long noncoding RNAs (lncRNAs) have been found in vertebrate \\nanimals, a few of which have known biological roles. To better understand the \\ngenomics and features of lncRNAs in invertebrates, we used available RNA-seq, \\npoly(A)-site, and ribosome-mapping data to identify lncRNAs of Caenorhabditis \\nelegans. We found 170 long intervening ncRNAs (lincRNAs), which had single- or \\nmultiexonic structures that did not overlap protein-coding transcripts, and \\nabout sixty antisense lncRNAs (ancRNAs), which were complementary to \\nprotein-coding transcripts. Compared to protein-coding genes, the lncRNA genes \\ntended to be expressed in a stage-dependent manner. Approximately 25% of the \\nnewly identified lincRNAs showed little signal for sequence conservation and \\nmapped antisense to clusters of endogenous siRNAs, as would be expected if they \\nserve as templates and targets for these siRNAs. The other 75% tended to be more \\nconserved and included lincRNAs with intriguing expression and sequence features \\nassociating them with processes such as dauer formation, male identity, sperm \\nformation, and interaction with sperm-specific mRNAs. Our study provides a \\nglimpse into the lncRNA content of a nonvertebrate animal and a resource for \\nfuture studies of lncRNA function.', 'The human genome contains many thousands of long noncoding RNAs (lncRNAs). While \\nseveral studies have demonstrated compelling biological and disease roles for \\nindividual examples, analytical and experimental approaches to investigate these \\ngenes have been hampered by the lack of comprehensive lncRNA annotation. Here, \\nwe present and analyze the most complete human lncRNA annotation to date, \\nproduced by the GENCODE consortium within the framework of the ENCODE project \\nand comprising 9277 manually annotated genes producing 14,880 transcripts. Our \\nanalyses indicate that lncRNAs are generated through pathways similar to that of \\nprotein-coding genes, with similar histone-modification profiles, splicing \\nsignals, and exon/intron lengths. In contrast to protein-coding genes, however, \\nlncRNAs display a striking bias toward two-exon transcripts, they are \\npredominantly localized in the chromatin and nucleus, and a fraction appear to \\nbe preferentially processed into small RNAs. They are under stronger selective \\npressure than neutrally evolving sequences-particularly in their promoter \\nregions, which display levels of selection comparable to protein-coding genes. \\nImportantly, about one-third seem to have arisen within the primate lineage. \\nComprehensive analysis of their expression in multiple human organs and brain \\nregions shows that lncRNAs are generally lower expressed than protein-coding \\ngenes, and display more tissue-specific expression patterns, with a large \\nfraction of tissue-specific lncRNAs expressed in the brain. Expression \\ncorrelation analysis indicates that lncRNAs show particularly striking positive \\ncorrelation with the expression of antisense coding genes. This GENCODE \\nannotation represents a valuable resource for future studies of lncRNAs.', 'NONCODE (http://www.bioinfo.org/noncode/) is an integrated knowledge database \\ndedicated to non-coding RNAs (excluding tRNAs and rRNAs). Non-coding RNAs \\n(ncRNAs) have been implied in diseases and identified to play important roles in \\nvarious biological processes. Since NONCODE version 3.0 was released 2 years \\nago, discovery of novel ncRNAs has been promoted by high-throughput RNA \\nsequencing (RNA-Seq). In this update of NONCODE, we expand the ncRNA data set by \\ncollection of newly identified ncRNAs from literature published in the last 2 \\nyears and integration of the latest version of RefSeq and Ensembl. Particularly, \\nthe number of long non-coding RNA (lncRNA) has increased sharply from 73 327 to \\n210 831. Owing to similar alternative splicing pattern to mRNAs, the concept of \\nlncRNA genes was put forward to help systematic understanding of lncRNAs. The 56 \\n018 and 46 475 lncRNA genes were generated from 95 135 and 67 628 lncRNAs for \\nhuman and mouse, respectively. Additionally, we present expression profile of \\nlncRNA genes by graphs based on public RNA-seq data for human and mouse, as well \\nas predict functions of these lncRNA genes. The improvements brought to the \\ndatabase also include an incorporation of an ID conversion tool from RefSeq or \\nEnsembl ID to NONCODE ID and a service of lncRNA identification. NONCODE is also \\naccessible through http://www.noncode.org/.', 'nan']}\n",
      "{'question': 'Is RANKL secreted from the cells?', 'answer': 'Receptor activator of nuclear factor κB ligand (RANKL) is a cytokine predominantly secreted by osteoblasts.', 'relevant_passage_ids': '[22867712, 23827649, 21618594, 23835909, 24265865, 23698708, 24267510, 22901753, 22948539, 23632157]', 'id': 4, 'relevant_passages': ['Bone destruction is a common feature of inflammatory arthritis and is mediated \\nby osteoclasts, the only specialized cells to carry out bone resorption. \\nAberrant expression of receptor activator of nuclear factor kappa β ligand \\n(RANKL), an inducer of osteoclast differentiation has been linked with bone \\npathology and the synovial fibroblast in rheumatoid arthritis (RA). In this \\nmanuscript, we challenge the current concept that an increase in RANKL \\nexpression governs osteoclastogenesis and bone destruction in autoimmune \\narthritis. We isolated human fibroblasts from RA, pyrophosphate arthropathy \\n(PPA) and osteoarthritis (OA) patients and analyzed their RANKL/OPG expression \\nprofile and the capacity of their secreted factors to induce osteoclastogenesis. \\nWe determined a 10-fold increase of RANKL mRNA and protein in fibroblasts \\nisolated from RA relative to PPA and OA patients. Peripheral blood mononuclear \\ncells (PBMC) from healthy volunteers were cultured in the presence of RA, PPA \\nand OA synovial fibroblast conditioned medium. Osteoclast differentiation was \\nassessed by expression of tartrate-resistant acid phosphatase (TRAP), \\nvitronectin receptor (VNR), F-actin ring formation and bone resorption assays. \\nThe formation of TRAP(+), VNR(+) multinucleated cells, capable of F-actin ring \\nformation and lacunar resorption in synovial fibroblast conditioned medium \\ncultures occured in the presence of osteoprotegerin (OPG) a RANKL antagonist. \\nOsteoclasts did not form in these cultures in the absence of macrophage colony \\nstimulating factor (M-CSF). Our data suggest that the conditioned medium of pure \\nsynovial fibroblast cultures contain inflammatory mediators that can induce \\nosteoclast formation in human PBMC independently of RANKL. Moreover inhibition \\nof the TNF or IL-6 pathway was not sufficient to abolish osteoclastogenic \\nsignals derived from arthritic synovial fibroblasts. Collectively, our data \\nclearly show that alternate osteoclastogenic pathways exist in inflammatory \\narthritis and place the synovial fibroblast as a key regulatory cell in bone and \\njoint destruction, which is a hallmark of autoimmune arthritis.', 'nan', 'nan', 'nan', \"Osteoprotegerin (OPG) is a secreted glycoprotein and a member of the tumor \\nnecrosis factor receptor superfamily. It usually functions in bone remodeling, \\nby inhibiting osteoclastogenesis through interaction with a receptor activator \\nof the nuclear factor κB (RANKL). Transglutaminases-2 (Tgase-2) is a group of \\nmultifunctional enzymes that plays a role in cancer cell metastasis and bone \\nformation. However, relationship between OPG and Tgase-2 is not studied. \\nTherefore, we investigated the involvement of 12-O-Tetradecanoylphorbol \\n13-acetate in the expression of OPG in MG-63 osteosarcoma cells. Interleukin-1β \\ntime-dependently induced OPG and Tgase-2 expression in cell lysates and media of \\nthe MG-63 cells by a Western blot. Additional 110 kda band was found in the \\nmedia of MG-63 cells. 12-O-Tetradecanoylphorbol 13-acetate also induced OPG and \\nTgase-2 expression. However, an 110 kda band was not found in TPA-treated media \\nof MG-63 cells. Cystamine, a Tgase-2 inhibitor, dose-dependently suppressed the \\nexpression of OPG in MG-63 cells. Gene silencing of Tgase-2 also signifi cantly \\nsuppressed the expression of OPG in MG-63 cells. Next, we examined whether a \\nband of 110 kda of OPG contains an isopeptide bond, an indication of Tgase-2 \\naction, by monoclonal antibody specifi c for the isopeptide bond. However, we \\ncould not fi nd the isopeptide bond at 110 kda but 77 kda, which is believed to \\nbe the band position of Tgase-2. This suggested that 110 kda is not the direct \\nproduct of Tgase-2's action. All together, OPG and Tgase-2 is induced by IL-1β \\nor TPA in MG-63 cells and Tgase-2 is involved in OPG expression in MG-63 cells.\", 'nan', 'BACKGROUND: Resistance to apoptosis is a major problem in ovarian cancer (OC) \\nand correlates with poor prognosis. Osteoprotegerin (OPG) is a soluble secreted \\nfactor that acts as a decoy receptor for receptor activator of NF-κB ligand \\n(RANKL) and tumor necrosis factor-related apoptosis-inducing ligand (TRAIL). OPG \\nhas been reported to attenuate TRAIL-induced apoptosis in a variety of cancer \\ncells, including OC cells. OPG-mediated protection against TRAIL has been \\nattributed to its decoy receptor function. However, OPG activates integrin/focal \\nadhesion kinase (FAK) signaling in endothelial cells. In OC cells, activation of \\nintegrin/FAK signaling inhibits TRAIL-induced apoptosis. Based on these \\nobservations, we hypothesized that OPG could attenuate TRAIL-induced apoptosis \\nin OC cells through integrin/FAK signaling.\\nMETHODS: In vitro experiments including immunoblots, colony formation assays, \\nand apoptosis measurements were used to assess the effect of OPG on \\nTRAIL-induced apoptosis.\\nRESULTS: Exogenous OPG protected from TRAIL-induced apoptosis in a TRAIL \\nbinding-independent manner and OPG protection was αvβ3 and αvβ5 integrin/FAK \\nsignaling-dependent. Moreover, OPG-mediated activation of integrin/FAK signaling \\nresulted in the activation of Akt. Inhibition of both integrin/FAK and Akt \\nsignaling significantly inhibited OPG-mediated attenuation of TRAIL-induced \\napoptosis. Although OPG also stimulated ERK1/2 phosphorylation, inhibition of \\nERK1/2 signaling did not significantly altered OPG protection.\\nCONCLUSIONS: Our studies provide evidence, for the first time, that OPG can \\nattenuate TRAIL-induced apoptosis in a TRAIL binding-independent manner through \\nthe activation of integrin/FAK/Akt signaling in OC cells.', 'nan', 'Pulsed electromagnetic field (PEMF) has been shown to increase bone mineral \\ndensity in osteoporosis patients and prevent bone loss in ovariectomized rats. \\nBut the mechanisms through which PEMF elicits these favorable biological \\nresponses are still not fully understood. Receptor activator of nuclear factor \\nκB ligand (RANKL) and osteoprotegerin (OPG) are cytokines predominantly secreted \\nby osteoblasts and play a central role in differentiation and functional \\nactivation of osteoclasts. The purpose of this study was to investigate the \\neffects of PEMF on RANKL and OPG expression in ovariectomized rats. Thirty \\n3-month-old female Sprague-Dawley rats were randomly divided into three groups: \\nsham-operated control (Sham), ovariectomy control (OVX), and ovariectomy with \\nPEMF treatment (PEMF). After 12-week interventions, the results showed that PEMF \\nincreased serum 17β-estradiol level, reduced serum tartrate-resistant acid \\nphosphatase level, increased bone mineral density, and inhibited deterioration \\nof bone microarchitecture and strength in OVX rats. Furthermore, PEMF could \\nsuppress RANKL expression and improve OPG expression in bone marrow cells of OVX \\nrats. In conclusion, this study suggests that PEMF can prevent \\novariectomy-induced bone loss through regulating the expression of RANKL and \\nOPG.', 'Zebrafish scales consist of bone-forming osteoblasts, bone-resorbing \\nosteoclasts, and calcified bone matrix. To elucidate the underlying molecular \\nmechanism of the effects induced by dynamic and static acceleration, we \\ninvestigated the scale osteoblast- and osteoclast-specific marker gene \\nexpression involving osteoblast-osteoclast communication molecules. Osteoblasts \\nexpress RANKL, which binds to the osteoclast surface receptor, RANK, and \\nstimulates bone resorption. OPG, on the other hand, is secreted by osteoblast as \\na decoy receptor for RANKL, prevents RANKL from binding to RANK and thus \\nprevents bone resorption. Therefore, the RANK-RANKL-OPG pathway contributes to \\nthe regulation of osteoclastogenesis by osteoblasts. Semaphorin 4D, in contrast, \\nis expressed on osteoclasts, and binding to its receptor Plexin-B1 on \\nosteoblasts results in suppression of bone formation. In the present study, we \\nfound that both dynamic and static acceleration at 3.0×g decreased RANKL/OPG \\nratio and increased osteoblast-specific functional mRNA such as alkaline \\nphosphatase, while static acceleration increased and dynamic acceleration \\ndecreased osteoclast-specific mRNA such as cathepsin K. Static acceleration \\nincreased semaphorin 4D mRNA expression, while dynamic acceleration had no \\neffect. The results of the present study indicated that osteoclasts have \\npredominant control over bone metabolism via semaphorin 4D expression induced by \\nstatic acceleration at 3.0×g.']}\n"
     ]
    }
   ],
   "source": [
    "from ragas.dataset_schema import SingleTurnSample\n",
    "\n",
    "samples = []\n",
    "for row in queries:\n",
    "    row[\"relevant_passages\"] = [ ds.loc[int(id)].passage for id in row[\"relevant_passage_ids\"][1:-1].split(', ')]\n",
    "    retrieved_nodes = bm25_retriever.retrieve(row['question'])\n",
    "    retrieved_nodes = [ str(node.text) for node in retrieved_nodes ]\n",
    "    print(row)\n",
    "    sample = SingleTurnSample(\n",
    "        user_input=row[\"question\"],\n",
    "        retrieved_contexts=retrieved_nodes,\n",
    "        reference_contexts=row[\"relevant_passages\"],\n",
    "    )\n",
    "    samples.append(sample)"
   ]
  },
  {
   "cell_type": "code",
   "execution_count": 27,
   "id": "945e7099",
   "metadata": {},
   "outputs": [],
   "source": [
    "import os\n",
    "from dotenv import load_dotenv\n",
    "load_dotenv()\n",
    "\n",
    "from llama_index.core import Settings\n",
    "from llama_index.llms.azure_openai import AzureOpenAI\n",
    "from llama_index.embeddings.azure_openai import AzureOpenAIEmbedding\n",
    "\n",
    "# You need to deploy your own embedding model as well as your own chat completion model\n",
    "llm = AzureOpenAI(\n",
    "    deployment_name='gpt-35-turbo16k',\n",
    "    model='gpt-35-turbo',\n",
    "    api_key=os.environ['AZURE_OPENAI_API_KEY'],\n",
    "    azure_endpoint=os.environ['AZURE_OPENAI_ENDPOINT'],\n",
    "    api_version=os.environ['AZURE_OPENAI_API_VERSION'],\n",
    ")\n",
    "\n",
    "# global settings\n",
    "Settings.llm = llm"
   ]
  },
  {
   "cell_type": "code",
   "execution_count": 30,
   "id": "1a7ec47f",
   "metadata": {},
   "outputs": [],
   "source": [
    "from llama_index.core.query_engine import RetrieverQueryEngine\n",
    "\n",
    "# make uniform api for all retrievers\n",
    "def get_query_engine_for_retriever(new_nodes = nodes, k=5):\n",
    "\n",
    "    bm25_retriever = BM25Retriever.from_defaults(\n",
    "        nodes=new_nodes,\n",
    "        similarity_top_k=k,\n",
    "        stemmer=Stemmer.Stemmer(\"english\"),\n",
    "        language=\"english\",\n",
    "    )\n",
    "\n",
    "    query_engine = RetrieverQueryEngine(bm25_retriever)\n",
    "    return query_engine"
   ]
  },
  {
   "cell_type": "code",
   "execution_count": null,
   "id": "43e5d4a0",
   "metadata": {},
   "outputs": [
    {
     "data": {
      "text/html": [
       "<div>\n",
       "<style scoped>\n",
       "    .dataframe tbody tr th:only-of-type {\n",
       "        vertical-align: middle;\n",
       "    }\n",
       "\n",
       "    .dataframe tbody tr th {\n",
       "        vertical-align: top;\n",
       "    }\n",
       "\n",
       "    .dataframe thead th {\n",
       "        text-align: right;\n",
       "    }\n",
       "</style>\n",
       "<table border=\"1\" class=\"dataframe\">\n",
       "  <thead>\n",
       "    <tr style=\"text-align: right;\">\n",
       "      <th></th>\n",
       "      <th></th>\n",
       "      <th>precision</th>\n",
       "      <th>recall</th>\n",
       "      <th>ap</th>\n",
       "      <th>ndcg</th>\n",
       "      <th>hit_rate</th>\n",
       "      <th>mrr</th>\n",
       "    </tr>\n",
       "    <tr>\n",
       "      <th>k</th>\n",
       "      <th>splitter</th>\n",
       "      <th></th>\n",
       "      <th></th>\n",
       "      <th></th>\n",
       "      <th></th>\n",
       "      <th></th>\n",
       "      <th></th>\n",
       "    </tr>\n",
       "  </thead>\n",
       "  <tbody>\n",
       "    <tr>\n",
       "      <th rowspan=\"2\" valign=\"top\">1</th>\n",
       "      <th>sentance_512_0</th>\n",
       "      <td>1.000000</td>\n",
       "      <td>0.108056</td>\n",
       "      <td>0.108056</td>\n",
       "      <td>1.000000</td>\n",
       "      <td>0.108056</td>\n",
       "      <td>1.000000</td>\n",
       "    </tr>\n",
       "    <tr>\n",
       "      <th>token_512</th>\n",
       "      <td>1.000000</td>\n",
       "      <td>0.108056</td>\n",
       "      <td>0.108056</td>\n",
       "      <td>1.000000</td>\n",
       "      <td>0.108056</td>\n",
       "      <td>1.000000</td>\n",
       "    </tr>\n",
       "    <tr>\n",
       "      <th rowspan=\"2\" valign=\"top\">3</th>\n",
       "      <th>sentance_512_0</th>\n",
       "      <td>0.933333</td>\n",
       "      <td>0.311667</td>\n",
       "      <td>0.307500</td>\n",
       "      <td>0.940784</td>\n",
       "      <td>0.311667</td>\n",
       "      <td>0.622222</td>\n",
       "    </tr>\n",
       "    <tr>\n",
       "      <th>token_512</th>\n",
       "      <td>0.933333</td>\n",
       "      <td>0.311667</td>\n",
       "      <td>0.307500</td>\n",
       "      <td>0.940784</td>\n",
       "      <td>0.311667</td>\n",
       "      <td>0.622222</td>\n",
       "    </tr>\n",
       "    <tr>\n",
       "      <th rowspan=\"2\" valign=\"top\">5</th>\n",
       "      <th>sentance_512_0</th>\n",
       "      <td>0.800000</td>\n",
       "      <td>0.439722</td>\n",
       "      <td>0.427986</td>\n",
       "      <td>0.849266</td>\n",
       "      <td>0.439722</td>\n",
       "      <td>0.506889</td>\n",
       "    </tr>\n",
       "    <tr>\n",
       "      <th>token_512</th>\n",
       "      <td>0.840000</td>\n",
       "      <td>0.439722</td>\n",
       "      <td>0.447986</td>\n",
       "      <td>0.875507</td>\n",
       "      <td>0.459722</td>\n",
       "      <td>0.494056</td>\n",
       "    </tr>\n",
       "    <tr>\n",
       "      <th rowspan=\"2\" valign=\"top\">10</th>\n",
       "      <th>sentance_512_0</th>\n",
       "      <td>0.580000</td>\n",
       "      <td>0.582222</td>\n",
       "      <td>0.544512</td>\n",
       "      <td>0.679299</td>\n",
       "      <td>0.582222</td>\n",
       "      <td>0.418433</td>\n",
       "    </tr>\n",
       "    <tr>\n",
       "      <th>token_512</th>\n",
       "      <td>0.591111</td>\n",
       "      <td>0.582222</td>\n",
       "      <td>0.564988</td>\n",
       "      <td>0.695321</td>\n",
       "      <td>0.602222</td>\n",
       "      <td>0.409306</td>\n",
       "    </tr>\n",
       "  </tbody>\n",
       "</table>\n",
       "</div>"
      ],
      "text/plain": [
       "                   precision    recall        ap      ndcg  hit_rate       mrr\n",
       "k  splitter                                                                   \n",
       "1  sentance_512_0   1.000000  0.108056  0.108056  1.000000  0.108056  1.000000\n",
       "   token_512        1.000000  0.108056  0.108056  1.000000  0.108056  1.000000\n",
       "3  sentance_512_0   0.933333  0.311667  0.307500  0.940784  0.311667  0.622222\n",
       "   token_512        0.933333  0.311667  0.307500  0.940784  0.311667  0.622222\n",
       "5  sentance_512_0   0.800000  0.439722  0.427986  0.849266  0.439722  0.506889\n",
       "   token_512        0.840000  0.439722  0.447986  0.875507  0.459722  0.494056\n",
       "10 sentance_512_0   0.580000  0.582222  0.544512  0.679299  0.582222  0.418433\n",
       "   token_512        0.591111  0.582222  0.564988  0.695321  0.602222  0.409306"
      ]
     },
     "execution_count": 33,
     "metadata": {},
     "output_type": "execute_result"
    }
   ],
   "source": [
    "from llama_index.core.evaluation import RetrieverEvaluator\n",
    "from llama_index.core.evaluation.retrieval.metrics import resolve_metrics, HitRate, MRR\n",
    "from llama_index.core.node_parser import SentenceSplitter, TokenTextSplitter\n",
    "\n",
    "metric_dict = {}\n",
    "metrics = [\"precision\", \"recall\", \"ap\", \"ndcg\"]\n",
    "metrics = [x() for x in resolve_metrics(metrics)] + [HitRate(use_granular_hit_rate=True), MRR(use_granular_mrr=True)]\n",
    "\n",
    "results_data = []\n",
    "splitters = {'sentance_512_0': SentenceSplitter(chunk_size=512, chunk_overlap=100),\n",
    "             'token_512': TokenTextSplitter(chunk_size=512, chunk_overlap=100)}\n",
    "\n",
    "for splitter_name in splitters.keys():\n",
    "    splitter = splitters[splitter_name]\n",
    "    nodes = splitter.get_nodes_from_documents(docs)\n",
    "    for k in [1, 3, 5, 10]:\n",
    "        query_engine = get_query_engine_for_retriever(new_nodes = nodes, k=k)\n",
    "        for row in queries:\n",
    "            row['relevant_passage_ids'] = row['relevant_passage_ids'][1:-1].split(', ')\n",
    "            query = row['question']\n",
    "            retrieved_nodes = query_engine.retrieve(query)\n",
    "            retrieved_passage_ids = [str(node.metadata['id']) for node in retrieved_nodes]\n",
    "            \n",
    "            for metric in metrics:\n",
    "                eval_result = metric.compute(\n",
    "                    query, row['relevant_passage_ids'], retrieved_passage_ids,\n",
    "                )\n",
    "                metric_dict[metric.metric_name] = eval_result.score\n",
    "            \n",
    "            results_data.append({\n",
    "                'splitter': splitter_name,\n",
    "                'k': k,\n",
    "                'query': query,\n",
    "                'retrieved_ids': retrieved_passage_ids,\n",
    "                'relevant_ids': row['relevant_passage_ids'],\n",
    "                **metric_dict\n",
    "            })\n",
    "\n",
    "results_df = pd.DataFrame(results_data)\n",
    "results_df.drop(['query', 'retrieved_ids', 'relevant_ids'], axis=1).groupby(['k','splitter']).mean()"
   ]
  },
  {
   "cell_type": "code",
   "execution_count": null,
   "id": "a7b2e688",
   "metadata": {},
   "outputs": [
    {
     "data": {
      "application/vnd.jupyter.widget-view+json": {
       "model_id": "e21b7b93b6544f1fb5d602805968eaa8",
       "version_major": 2,
       "version_minor": 0
      },
      "text/plain": [
       "Evaluating:   0%|          | 0/30 [00:00<?, ?it/s]"
      ]
     },
     "metadata": {},
     "output_type": "display_data"
    },
    {
     "data": {
      "application/vnd.jupyter.widget-view+json": {
       "model_id": "d5b2e20f57c54d2498f2afbebf17e08e",
       "version_major": 2,
       "version_minor": 0
      },
      "text/plain": [
       "Evaluating:   0%|          | 0/30 [00:00<?, ?it/s]"
      ]
     },
     "metadata": {},
     "output_type": "display_data"
    },
    {
     "data": {
      "application/vnd.jupyter.widget-view+json": {
       "model_id": "8ea118d4ae10408f8ccbe115549de66f",
       "version_major": 2,
       "version_minor": 0
      },
      "text/plain": [
       "Evaluating:   0%|          | 0/30 [00:00<?, ?it/s]"
      ]
     },
     "metadata": {},
     "output_type": "display_data"
    },
    {
     "data": {
      "application/vnd.jupyter.widget-view+json": {
       "model_id": "4d1f508d6bd24a2faf665c82027d1008",
       "version_major": 2,
       "version_minor": 0
      },
      "text/plain": [
       "Evaluating:   0%|          | 0/30 [00:00<?, ?it/s]"
      ]
     },
     "metadata": {},
     "output_type": "display_data"
    },
    {
     "ename": "KeyError",
     "evalue": "'splitter'",
     "output_type": "error",
     "traceback": [
      "\u001b[1;31m---------------------------------------------------------------------------\u001b[0m",
      "\u001b[1;31mKeyError\u001b[0m                                  Traceback (most recent call last)",
      "Cell \u001b[1;32mIn[44], line 75\u001b[0m\n\u001b[0;32m     72\u001b[0m         results_data\u001b[38;5;241m.\u001b[39mappend(df)\n\u001b[0;32m     74\u001b[0m results_df \u001b[38;5;241m=\u001b[39m pd\u001b[38;5;241m.\u001b[39mconcat(results_data)\u001b[38;5;241m.\u001b[39mreset_index(drop\u001b[38;5;241m=\u001b[39m\u001b[38;5;28;01mTrue\u001b[39;00m)\n\u001b[1;32m---> 75\u001b[0m \u001b[43mresults_df\u001b[49m\u001b[38;5;241;43m.\u001b[39;49m\u001b[43mdrop\u001b[49m\u001b[43m(\u001b[49m\u001b[43m[\u001b[49m\u001b[38;5;124;43m'\u001b[39;49m\u001b[38;5;124;43muser_input\u001b[39;49m\u001b[38;5;124;43m'\u001b[39;49m\u001b[43m,\u001b[49m\u001b[38;5;124;43m'\u001b[39;49m\u001b[38;5;124;43mretrieved_contexts\u001b[39;49m\u001b[38;5;124;43m'\u001b[39;49m\u001b[43m,\u001b[49m\u001b[38;5;124;43m'\u001b[39;49m\u001b[38;5;124;43mreference_contexts\u001b[39;49m\u001b[38;5;124;43m'\u001b[39;49m\u001b[43m,\u001b[49m\u001b[38;5;124;43m'\u001b[39;49m\u001b[38;5;124;43mresponse\u001b[39;49m\u001b[38;5;124;43m'\u001b[39;49m\u001b[43m,\u001b[49m\u001b[38;5;124;43m'\u001b[39;49m\u001b[38;5;124;43mreference\u001b[39;49m\u001b[38;5;124;43m'\u001b[39;49m\u001b[43m,\u001b[49m\u001b[38;5;124;43m'\u001b[39;49m\u001b[38;5;124;43msplitter\u001b[39;49m\u001b[38;5;124;43m'\u001b[39;49m\u001b[43m]\u001b[49m\u001b[43m,\u001b[49m\u001b[43m \u001b[49m\u001b[43maxis\u001b[49m\u001b[38;5;241;43m=\u001b[39;49m\u001b[38;5;241;43m1\u001b[39;49m\u001b[43m)\u001b[49m\u001b[38;5;241;43m.\u001b[39;49m\u001b[43mgroupby\u001b[49m\u001b[43m(\u001b[49m\u001b[43m[\u001b[49m\u001b[38;5;124;43m'\u001b[39;49m\u001b[38;5;124;43mk\u001b[39;49m\u001b[38;5;124;43m'\u001b[39;49m\u001b[43m,\u001b[49m\u001b[38;5;124;43m'\u001b[39;49m\u001b[38;5;124;43msplitter\u001b[39;49m\u001b[38;5;124;43m'\u001b[39;49m\u001b[43m]\u001b[49m\u001b[43m)\u001b[49m\u001b[38;5;241m.\u001b[39mmean()\n",
      "File \u001b[1;32md:\\dev\\miniconda3\\envs\\dl\\lib\\site-packages\\pandas\\core\\frame.py:9183\u001b[0m, in \u001b[0;36mDataFrame.groupby\u001b[1;34m(self, by, axis, level, as_index, sort, group_keys, observed, dropna)\u001b[0m\n\u001b[0;32m   9180\u001b[0m \u001b[38;5;28;01mif\u001b[39;00m level \u001b[38;5;129;01mis\u001b[39;00m \u001b[38;5;28;01mNone\u001b[39;00m \u001b[38;5;129;01mand\u001b[39;00m by \u001b[38;5;129;01mis\u001b[39;00m \u001b[38;5;28;01mNone\u001b[39;00m:\n\u001b[0;32m   9181\u001b[0m     \u001b[38;5;28;01mraise\u001b[39;00m \u001b[38;5;167;01mTypeError\u001b[39;00m(\u001b[38;5;124m\"\u001b[39m\u001b[38;5;124mYou have to supply one of \u001b[39m\u001b[38;5;124m'\u001b[39m\u001b[38;5;124mby\u001b[39m\u001b[38;5;124m'\u001b[39m\u001b[38;5;124m and \u001b[39m\u001b[38;5;124m'\u001b[39m\u001b[38;5;124mlevel\u001b[39m\u001b[38;5;124m'\u001b[39m\u001b[38;5;124m\"\u001b[39m)\n\u001b[1;32m-> 9183\u001b[0m \u001b[38;5;28;01mreturn\u001b[39;00m \u001b[43mDataFrameGroupBy\u001b[49m\u001b[43m(\u001b[49m\n\u001b[0;32m   9184\u001b[0m \u001b[43m    \u001b[49m\u001b[43mobj\u001b[49m\u001b[38;5;241;43m=\u001b[39;49m\u001b[38;5;28;43mself\u001b[39;49m\u001b[43m,\u001b[49m\n\u001b[0;32m   9185\u001b[0m \u001b[43m    \u001b[49m\u001b[43mkeys\u001b[49m\u001b[38;5;241;43m=\u001b[39;49m\u001b[43mby\u001b[49m\u001b[43m,\u001b[49m\n\u001b[0;32m   9186\u001b[0m \u001b[43m    \u001b[49m\u001b[43maxis\u001b[49m\u001b[38;5;241;43m=\u001b[39;49m\u001b[43maxis\u001b[49m\u001b[43m,\u001b[49m\n\u001b[0;32m   9187\u001b[0m \u001b[43m    \u001b[49m\u001b[43mlevel\u001b[49m\u001b[38;5;241;43m=\u001b[39;49m\u001b[43mlevel\u001b[49m\u001b[43m,\u001b[49m\n\u001b[0;32m   9188\u001b[0m \u001b[43m    \u001b[49m\u001b[43mas_index\u001b[49m\u001b[38;5;241;43m=\u001b[39;49m\u001b[43mas_index\u001b[49m\u001b[43m,\u001b[49m\n\u001b[0;32m   9189\u001b[0m \u001b[43m    \u001b[49m\u001b[43msort\u001b[49m\u001b[38;5;241;43m=\u001b[39;49m\u001b[43msort\u001b[49m\u001b[43m,\u001b[49m\n\u001b[0;32m   9190\u001b[0m \u001b[43m    \u001b[49m\u001b[43mgroup_keys\u001b[49m\u001b[38;5;241;43m=\u001b[39;49m\u001b[43mgroup_keys\u001b[49m\u001b[43m,\u001b[49m\n\u001b[0;32m   9191\u001b[0m \u001b[43m    \u001b[49m\u001b[43mobserved\u001b[49m\u001b[38;5;241;43m=\u001b[39;49m\u001b[43mobserved\u001b[49m\u001b[43m,\u001b[49m\n\u001b[0;32m   9192\u001b[0m \u001b[43m    \u001b[49m\u001b[43mdropna\u001b[49m\u001b[38;5;241;43m=\u001b[39;49m\u001b[43mdropna\u001b[49m\u001b[43m,\u001b[49m\n\u001b[0;32m   9193\u001b[0m \u001b[43m\u001b[49m\u001b[43m)\u001b[49m\n",
      "File \u001b[1;32md:\\dev\\miniconda3\\envs\\dl\\lib\\site-packages\\pandas\\core\\groupby\\groupby.py:1329\u001b[0m, in \u001b[0;36mGroupBy.__init__\u001b[1;34m(self, obj, keys, axis, level, grouper, exclusions, selection, as_index, sort, group_keys, observed, dropna)\u001b[0m\n\u001b[0;32m   1326\u001b[0m \u001b[38;5;28mself\u001b[39m\u001b[38;5;241m.\u001b[39mdropna \u001b[38;5;241m=\u001b[39m dropna\n\u001b[0;32m   1328\u001b[0m \u001b[38;5;28;01mif\u001b[39;00m grouper \u001b[38;5;129;01mis\u001b[39;00m \u001b[38;5;28;01mNone\u001b[39;00m:\n\u001b[1;32m-> 1329\u001b[0m     grouper, exclusions, obj \u001b[38;5;241m=\u001b[39m \u001b[43mget_grouper\u001b[49m\u001b[43m(\u001b[49m\n\u001b[0;32m   1330\u001b[0m \u001b[43m        \u001b[49m\u001b[43mobj\u001b[49m\u001b[43m,\u001b[49m\n\u001b[0;32m   1331\u001b[0m \u001b[43m        \u001b[49m\u001b[43mkeys\u001b[49m\u001b[43m,\u001b[49m\n\u001b[0;32m   1332\u001b[0m \u001b[43m        \u001b[49m\u001b[43maxis\u001b[49m\u001b[38;5;241;43m=\u001b[39;49m\u001b[43maxis\u001b[49m\u001b[43m,\u001b[49m\n\u001b[0;32m   1333\u001b[0m \u001b[43m        \u001b[49m\u001b[43mlevel\u001b[49m\u001b[38;5;241;43m=\u001b[39;49m\u001b[43mlevel\u001b[49m\u001b[43m,\u001b[49m\n\u001b[0;32m   1334\u001b[0m \u001b[43m        \u001b[49m\u001b[43msort\u001b[49m\u001b[38;5;241;43m=\u001b[39;49m\u001b[43msort\u001b[49m\u001b[43m,\u001b[49m\n\u001b[0;32m   1335\u001b[0m \u001b[43m        \u001b[49m\u001b[43mobserved\u001b[49m\u001b[38;5;241;43m=\u001b[39;49m\u001b[38;5;28;43;01mFalse\u001b[39;49;00m\u001b[43m \u001b[49m\u001b[38;5;28;43;01mif\u001b[39;49;00m\u001b[43m \u001b[49m\u001b[43mobserved\u001b[49m\u001b[43m \u001b[49m\u001b[38;5;129;43;01mis\u001b[39;49;00m\u001b[43m \u001b[49m\u001b[43mlib\u001b[49m\u001b[38;5;241;43m.\u001b[39;49m\u001b[43mno_default\u001b[49m\u001b[43m \u001b[49m\u001b[38;5;28;43;01melse\u001b[39;49;00m\u001b[43m \u001b[49m\u001b[43mobserved\u001b[49m\u001b[43m,\u001b[49m\n\u001b[0;32m   1336\u001b[0m \u001b[43m        \u001b[49m\u001b[43mdropna\u001b[49m\u001b[38;5;241;43m=\u001b[39;49m\u001b[38;5;28;43mself\u001b[39;49m\u001b[38;5;241;43m.\u001b[39;49m\u001b[43mdropna\u001b[49m\u001b[43m,\u001b[49m\n\u001b[0;32m   1337\u001b[0m \u001b[43m    \u001b[49m\u001b[43m)\u001b[49m\n\u001b[0;32m   1339\u001b[0m \u001b[38;5;28;01mif\u001b[39;00m observed \u001b[38;5;129;01mis\u001b[39;00m lib\u001b[38;5;241m.\u001b[39mno_default:\n\u001b[0;32m   1340\u001b[0m     \u001b[38;5;28;01mif\u001b[39;00m \u001b[38;5;28many\u001b[39m(ping\u001b[38;5;241m.\u001b[39m_passed_categorical \u001b[38;5;28;01mfor\u001b[39;00m ping \u001b[38;5;129;01min\u001b[39;00m grouper\u001b[38;5;241m.\u001b[39mgroupings):\n",
      "File \u001b[1;32md:\\dev\\miniconda3\\envs\\dl\\lib\\site-packages\\pandas\\core\\groupby\\grouper.py:1043\u001b[0m, in \u001b[0;36mget_grouper\u001b[1;34m(obj, key, axis, level, sort, observed, validate, dropna)\u001b[0m\n\u001b[0;32m   1041\u001b[0m         in_axis, level, gpr \u001b[38;5;241m=\u001b[39m \u001b[38;5;28;01mFalse\u001b[39;00m, gpr, \u001b[38;5;28;01mNone\u001b[39;00m\n\u001b[0;32m   1042\u001b[0m     \u001b[38;5;28;01melse\u001b[39;00m:\n\u001b[1;32m-> 1043\u001b[0m         \u001b[38;5;28;01mraise\u001b[39;00m \u001b[38;5;167;01mKeyError\u001b[39;00m(gpr)\n\u001b[0;32m   1044\u001b[0m \u001b[38;5;28;01melif\u001b[39;00m \u001b[38;5;28misinstance\u001b[39m(gpr, Grouper) \u001b[38;5;129;01mand\u001b[39;00m gpr\u001b[38;5;241m.\u001b[39mkey \u001b[38;5;129;01mis\u001b[39;00m \u001b[38;5;129;01mnot\u001b[39;00m \u001b[38;5;28;01mNone\u001b[39;00m:\n\u001b[0;32m   1045\u001b[0m     \u001b[38;5;66;03m# Add key to exclusions\u001b[39;00m\n\u001b[0;32m   1046\u001b[0m     exclusions\u001b[38;5;241m.\u001b[39madd(gpr\u001b[38;5;241m.\u001b[39mkey)\n",
      "\u001b[1;31mKeyError\u001b[0m: 'splitter'"
     ]
    }
   ],
   "source": [
    "from ragas.dataset_schema import SingleTurnSample\n",
    "                            \n",
    "from ragas.metrics import (LLMContextRecall,LLMContextPrecisionWithReference, Faithfulness, \n",
    "                            SemanticSimilarity, NonLLMContextRecall, answer_correctness, FactualCorrectness)\n",
    "from ragas import evaluate, EvaluationDataset\n",
    "from langchain_openai import AzureOpenAIEmbeddings\n",
    "from langchain.chat_models import AzureChatOpenAI\n",
    "from ragas.llms import LangchainLLMWrapper\n",
    "from ragas.embeddings import LangchainEmbeddingsWrapper\n",
    "\n",
    "evaluator_llm = LangchainLLMWrapper(AzureChatOpenAI(\n",
    "                openai_api_version=os.environ['AZURE_OPENAI_API_VERSION'],\n",
    "                azure_deployment='gpt-4o',\n",
    "                model='gpt-4o',\n",
    "            ))\n",
    "\n",
    "# evaluator_llm = LangchainLLMWrapper(AzureChatOpenAI(\n",
    "#                 openai_api_version=os.environ['AZURE_OPENAI_API_VERSION'],\n",
    "#                 azure_deployment='gpt-35-turbo16k',\n",
    "#                 model='gpt-35-turbo',\n",
    "#             ))\n",
    "\n",
    "evaluator_embeddings = LangchainEmbeddingsWrapper( AzureOpenAIEmbeddings(\n",
    "                openai_api_version=os.environ['AZURE_OPENAI_API_VERSION'],\n",
    "                azure_deployment='text-embedding-ada-002',\n",
    "                model='text-embedding-ada-002',\n",
    "))\n",
    "\n",
    "\n",
    "metrics = [\n",
    "    LLMContextRecall(), # Recall based on claims made in response vs those in reference, uses LLM\n",
    "    LLMContextPrecisionWithReference(), # Precision based on claims made in response vs those in reference, uses LLM\n",
    "    FactualCorrectness(), # F1-Score of claims made in response vs those in reference\n",
    "    SemanticSimilarity(), # embedding based similarity between generated answer and ground truth\n",
    "    answer_correctness,\n",
    "    Faithfulness()\n",
    "]\n",
    "\n",
    "results_data = []\n",
    "splitters = {'sentance_512_0': SentenceSplitter(chunk_size=512, chunk_overlap=100),\n",
    "             'token_512': TokenTextSplitter(chunk_size=512, chunk_overlap=100)}\n",
    "             \n",
    "for splitter_name in splitters.keys():\n",
    "    splitter = splitters[splitter_name]\n",
    "    nodes = splitter.get_nodes_from_documents(docs)\n",
    "    \n",
    "    for k in [5, 10]: # removing others since this process is expensive\n",
    "        query_engine = get_query_engine_for_retriever(new_nodes = nodes, k=k)\n",
    "        samples = []\n",
    "        for row in queries:\n",
    "            query = row['question']\n",
    "            response = query_engine.query(query)\n",
    "            retrieved_nodes = response.source_nodes\n",
    "            retrieved_passage_ids = [node.metadata['id'] for node in retrieved_nodes]\n",
    "            retrieved_passages = [ ds.loc[int(id)].passage for id in retrieved_passage_ids ]\n",
    "            relevant_passages = [ ds.loc[int(id)].passage for id in row[\"relevant_passage_ids\"][1:-1].split(', ') ]\n",
    "            \n",
    "            sample = SingleTurnSample(\n",
    "                user_input=query,\n",
    "                reference=row[\"answer\"],\n",
    "                response=response.response,\n",
    "                retrieved_contexts=retrieved_passages,\n",
    "                reference_contexts=relevant_passages,\n",
    "            )\n",
    "            samples.append(sample)\n",
    "\n",
    "        eval_dataset = EvaluationDataset(samples = samples)\n",
    "        results = evaluate(dataset=eval_dataset, metrics=metrics, llm = evaluator_llm, embeddings = evaluator_embeddings)\n",
    "        df = results.to_pandas()\n",
    "        df['k'] = k\n",
    "        df['splitter'] = splitter_name\n",
    "        results_data.append(df)\n",
    "\n",
    "results_df = pd.concat(results_data).reset_index(drop=True)\n",
    "results_df.drop(['user_input','retrieved_contexts','reference_contexts','response','reference'], axis=1).groupby(['k','splitter']).mean()"
   ]
  },
  {
   "cell_type": "code",
   "execution_count": null,
   "id": "11fb9d3f",
   "metadata": {},
   "outputs": [],
   "source": []
  }
 ],
 "metadata": {
  "colab": {
   "provenance": []
  },
  "kernelspec": {
   "display_name": "dl",
   "language": "python",
   "name": "dl"
  },
  "language_info": {
   "codemirror_mode": {
    "name": "ipython",
    "version": 3
   },
   "file_extension": ".py",
   "mimetype": "text/x-python",
   "name": "python",
   "nbconvert_exporter": "python",
   "pygments_lexer": "ipython3",
   "version": "3.10.11"
  },
  "widgets": {
   "application/vnd.jupyter.widget-state+json": {
    "096445e14b6c4ecb96140761edb92372": {
     "model_module": "@jupyter-widgets/base",
     "model_module_version": "1.2.0",
     "model_name": "LayoutModel",
     "state": {
      "_model_module": "@jupyter-widgets/base",
      "_model_module_version": "1.2.0",
      "_model_name": "LayoutModel",
      "_view_count": null,
      "_view_module": "@jupyter-widgets/base",
      "_view_module_version": "1.2.0",
      "_view_name": "LayoutView",
      "align_content": null,
      "align_items": null,
      "align_self": null,
      "border": null,
      "bottom": null,
      "display": null,
      "flex": null,
      "flex_flow": null,
      "grid_area": null,
      "grid_auto_columns": null,
      "grid_auto_flow": null,
      "grid_auto_rows": null,
      "grid_column": null,
      "grid_gap": null,
      "grid_row": null,
      "grid_template_areas": null,
      "grid_template_columns": null,
      "grid_template_rows": null,
      "height": null,
      "justify_content": null,
      "justify_items": null,
      "left": null,
      "margin": null,
      "max_height": null,
      "max_width": null,
      "min_height": null,
      "min_width": null,
      "object_fit": null,
      "object_position": null,
      "order": null,
      "overflow": null,
      "overflow_x": null,
      "overflow_y": null,
      "padding": null,
      "right": null,
      "top": null,
      "visibility": null,
      "width": null
     }
    },
    "1083cb398500433c988171e722215701": {
     "model_module": "@jupyter-widgets/controls",
     "model_module_version": "1.5.0",
     "model_name": "HTMLModel",
     "state": {
      "_dom_classes": [],
      "_model_module": "@jupyter-widgets/controls",
      "_model_module_version": "1.5.0",
      "_model_name": "HTMLModel",
      "_view_count": null,
      "_view_module": "@jupyter-widgets/controls",
      "_view_module_version": "1.5.0",
      "_view_name": "HTMLView",
      "description": "",
      "description_tooltip": null,
      "layout": "IPY_MODEL_1e44b5cc92974b909cd1c95e76eb1afe",
      "placeholder": "​",
      "style": "IPY_MODEL_b6de2f18ee8646458c959033c8567572",
      "value": "Finding newlines for mmindex: 100%"
     }
    },
    "1b06883290974d2180dd38f47eabcc6f": {
     "model_module": "@jupyter-widgets/base",
     "model_module_version": "1.2.0",
     "model_name": "LayoutModel",
     "state": {
      "_model_module": "@jupyter-widgets/base",
      "_model_module_version": "1.2.0",
      "_model_name": "LayoutModel",
      "_view_count": null,
      "_view_module": "@jupyter-widgets/base",
      "_view_module_version": "1.2.0",
      "_view_name": "LayoutView",
      "align_content": null,
      "align_items": null,
      "align_self": null,
      "border": null,
      "bottom": null,
      "display": null,
      "flex": null,
      "flex_flow": null,
      "grid_area": null,
      "grid_auto_columns": null,
      "grid_auto_flow": null,
      "grid_auto_rows": null,
      "grid_column": null,
      "grid_gap": null,
      "grid_row": null,
      "grid_template_areas": null,
      "grid_template_columns": null,
      "grid_template_rows": null,
      "height": null,
      "justify_content": null,
      "justify_items": null,
      "left": null,
      "margin": null,
      "max_height": null,
      "max_width": null,
      "min_height": null,
      "min_width": null,
      "object_fit": null,
      "object_position": null,
      "order": null,
      "overflow": null,
      "overflow_x": null,
      "overflow_y": null,
      "padding": null,
      "right": null,
      "top": null,
      "visibility": null,
      "width": null
     }
    },
    "1e44b5cc92974b909cd1c95e76eb1afe": {
     "model_module": "@jupyter-widgets/base",
     "model_module_version": "1.2.0",
     "model_name": "LayoutModel",
     "state": {
      "_model_module": "@jupyter-widgets/base",
      "_model_module_version": "1.2.0",
      "_model_name": "LayoutModel",
      "_view_count": null,
      "_view_module": "@jupyter-widgets/base",
      "_view_module_version": "1.2.0",
      "_view_name": "LayoutView",
      "align_content": null,
      "align_items": null,
      "align_self": null,
      "border": null,
      "bottom": null,
      "display": null,
      "flex": null,
      "flex_flow": null,
      "grid_area": null,
      "grid_auto_columns": null,
      "grid_auto_flow": null,
      "grid_auto_rows": null,
      "grid_column": null,
      "grid_gap": null,
      "grid_row": null,
      "grid_template_areas": null,
      "grid_template_columns": null,
      "grid_template_rows": null,
      "height": null,
      "justify_content": null,
      "justify_items": null,
      "left": null,
      "margin": null,
      "max_height": null,
      "max_width": null,
      "min_height": null,
      "min_width": null,
      "object_fit": null,
      "object_position": null,
      "order": null,
      "overflow": null,
      "overflow_x": null,
      "overflow_y": null,
      "padding": null,
      "right": null,
      "top": null,
      "visibility": null,
      "width": null
     }
    },
    "3df072c0db644244957c79055aa0dc50": {
     "model_module": "@jupyter-widgets/controls",
     "model_module_version": "1.5.0",
     "model_name": "HTMLModel",
     "state": {
      "_dom_classes": [],
      "_model_module": "@jupyter-widgets/controls",
      "_model_module_version": "1.5.0",
      "_model_name": "HTMLModel",
      "_view_count": null,
      "_view_module": "@jupyter-widgets/controls",
      "_view_module_version": "1.5.0",
      "_view_name": "HTMLView",
      "description": "",
      "description_tooltip": null,
      "layout": "IPY_MODEL_8e330a1dc3304b75bdcbce1aca8d6797",
      "placeholder": "​",
      "style": "IPY_MODEL_c5d6ddf6bfbe4a74a0b45e7047f0b09b",
      "value": " 269k/269k [00:00&lt;00:00, 5.38MB/s]"
     }
    },
    "5d8eea5ada8c4fbf855e2aa09c6bec19": {
     "model_module": "@jupyter-widgets/controls",
     "model_module_version": "1.5.0",
     "model_name": "HBoxModel",
     "state": {
      "_dom_classes": [],
      "_model_module": "@jupyter-widgets/controls",
      "_model_module_version": "1.5.0",
      "_model_name": "HBoxModel",
      "_view_count": null,
      "_view_module": "@jupyter-widgets/controls",
      "_view_module_version": "1.5.0",
      "_view_name": "HBoxView",
      "box_style": "",
      "children": [
       "IPY_MODEL_1083cb398500433c988171e722215701",
       "IPY_MODEL_eca8709f8a0f4d64ba2483940b9900f8",
       "IPY_MODEL_3df072c0db644244957c79055aa0dc50"
      ],
      "layout": "IPY_MODEL_096445e14b6c4ecb96140761edb92372"
     }
    },
    "8e330a1dc3304b75bdcbce1aca8d6797": {
     "model_module": "@jupyter-widgets/base",
     "model_module_version": "1.2.0",
     "model_name": "LayoutModel",
     "state": {
      "_model_module": "@jupyter-widgets/base",
      "_model_module_version": "1.2.0",
      "_model_name": "LayoutModel",
      "_view_count": null,
      "_view_module": "@jupyter-widgets/base",
      "_view_module_version": "1.2.0",
      "_view_name": "LayoutView",
      "align_content": null,
      "align_items": null,
      "align_self": null,
      "border": null,
      "bottom": null,
      "display": null,
      "flex": null,
      "flex_flow": null,
      "grid_area": null,
      "grid_auto_columns": null,
      "grid_auto_flow": null,
      "grid_auto_rows": null,
      "grid_column": null,
      "grid_gap": null,
      "grid_row": null,
      "grid_template_areas": null,
      "grid_template_columns": null,
      "grid_template_rows": null,
      "height": null,
      "justify_content": null,
      "justify_items": null,
      "left": null,
      "margin": null,
      "max_height": null,
      "max_width": null,
      "min_height": null,
      "min_width": null,
      "object_fit": null,
      "object_position": null,
      "order": null,
      "overflow": null,
      "overflow_x": null,
      "overflow_y": null,
      "padding": null,
      "right": null,
      "top": null,
      "visibility": null,
      "width": null
     }
    },
    "b6de2f18ee8646458c959033c8567572": {
     "model_module": "@jupyter-widgets/controls",
     "model_module_version": "1.5.0",
     "model_name": "DescriptionStyleModel",
     "state": {
      "_model_module": "@jupyter-widgets/controls",
      "_model_module_version": "1.5.0",
      "_model_name": "DescriptionStyleModel",
      "_view_count": null,
      "_view_module": "@jupyter-widgets/base",
      "_view_module_version": "1.2.0",
      "_view_name": "StyleView",
      "description_width": ""
     }
    },
    "c5d6ddf6bfbe4a74a0b45e7047f0b09b": {
     "model_module": "@jupyter-widgets/controls",
     "model_module_version": "1.5.0",
     "model_name": "DescriptionStyleModel",
     "state": {
      "_model_module": "@jupyter-widgets/controls",
      "_model_module_version": "1.5.0",
      "_model_name": "DescriptionStyleModel",
      "_view_count": null,
      "_view_module": "@jupyter-widgets/base",
      "_view_module_version": "1.2.0",
      "_view_name": "StyleView",
      "description_width": ""
     }
    },
    "eca8709f8a0f4d64ba2483940b9900f8": {
     "model_module": "@jupyter-widgets/controls",
     "model_module_version": "1.5.0",
     "model_name": "FloatProgressModel",
     "state": {
      "_dom_classes": [],
      "_model_module": "@jupyter-widgets/controls",
      "_model_module_version": "1.5.0",
      "_model_name": "FloatProgressModel",
      "_view_count": null,
      "_view_module": "@jupyter-widgets/controls",
      "_view_module_version": "1.5.0",
      "_view_name": "ProgressView",
      "bar_style": "success",
      "description": "",
      "description_tooltip": null,
      "layout": "IPY_MODEL_1b06883290974d2180dd38f47eabcc6f",
      "max": 268818,
      "min": 0,
      "orientation": "horizontal",
      "style": "IPY_MODEL_f3233e978ae94ea99749767e2f15fc08",
      "value": 268818
     }
    },
    "f3233e978ae94ea99749767e2f15fc08": {
     "model_module": "@jupyter-widgets/controls",
     "model_module_version": "1.5.0",
     "model_name": "ProgressStyleModel",
     "state": {
      "_model_module": "@jupyter-widgets/controls",
      "_model_module_version": "1.5.0",
      "_model_name": "ProgressStyleModel",
      "_view_count": null,
      "_view_module": "@jupyter-widgets/base",
      "_view_module_version": "1.2.0",
      "_view_name": "StyleView",
      "bar_color": null,
      "description_width": ""
     }
    }
   }
  }
 },
 "nbformat": 4,
 "nbformat_minor": 5
}
