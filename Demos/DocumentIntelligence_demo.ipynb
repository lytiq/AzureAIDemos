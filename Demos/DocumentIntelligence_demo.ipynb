{
 "cells": [
  {
   "cell_type": "code",
   "execution_count": null,
   "metadata": {},
   "outputs": [],
   "source": [
    "# Only some regions are supported in the new document intelligence sdk, use westeurope for now\n",
    "%pip install --upgrade azure-ai-documentintelligence \n",
    "%pip install python-dotenv pandas"
   ]
  },
  {
   "cell_type": "code",
   "execution_count": null,
   "metadata": {},
   "outputs": [
    {
     "name": "stdout",
     "output_type": "stream",
     "text": [
      "Appending to ./.env\n"
     ]
    }
   ],
   "source": [
    "# %%writefile -a ./.env\n",
    "\n",
    "# AZURE_DI_KEY=\n",
    "# AZURE_DI_ENDPOINT=\n",
    "# AZURE_DI_MODEL_NAME="
   ]
  },
  {
   "cell_type": "markdown",
   "metadata": {},
   "source": [
    "# Use prebuilt receipt model "
   ]
  },
  {
   "cell_type": "code",
   "execution_count": null,
   "metadata": {},
   "outputs": [
    {
     "name": "stdout",
     "output_type": "stream",
     "text": [
      "Receipt Properties:\n",
      "Transaction date: None\n",
      "Total: $1203.39USD\n",
      "Merchant Name: Contoso\n",
      "\n",
      "Items:\n",
      "Description: Surface Pro 6, Total Price: $999.0USD\n",
      "Description: SurfacePen, Total Price: $99.99USD\n"
     ]
    }
   ],
   "source": [
    "\n",
    "import os\n",
    "from dotenv import load_dotenv\n",
    "load_dotenv()\n",
    "\n",
    "# Set your Azure Document Intelligence endpoint and key\n",
    "endpoint = os.getenv(\"AZURE_DI_ENDPOINT\")\n",
    "key = os.getenv(\"AZURE_DI_KEY\")\n",
    "\n",
    "\n",
    "from azure.core.credentials import AzureKeyCredential\n",
    "from azure.ai.documentintelligence import DocumentIntelligenceClient\n",
    "from azure.ai.documentintelligence.models import AnalyzeDocumentRequest, ContentFormat, AnalyzeResult\n",
    "\n",
    "def format_price(price_dict):\n",
    "    return \"\".join([f\"{p}\" for p in price_dict.valueStrings()])\n",
    "\n",
    "document_intelligence_client = DocumentIntelligenceClient(endpoint=endpoint, credential=AzureKeyCredential(key))\n",
    "url = \"https://raw.githubusercontent.com/Azure/azure-sdk-for-python/main/sdk/documentintelligence/azure-ai-documentintelligence/samples/sample_forms/receipt/contoso-receipt.png\"\n",
    "poller = document_intelligence_client.begin_analyze_document(\n",
    "    \"prebuilt-receipt\", AnalyzeDocumentRequest(url_source=url)\n",
    ")\n",
    "receipts: AnalyzeResult = poller.result()\n",
    "\n",
    "# Extract and print receipt information\n",
    "for receipt in receipts.documents:\n",
    "    print(\"Receipt Properties:\")\n",
    "    print(f\"Transaction date: {receipt.fields.get('TransactionDate').get('valueStringString') if receipt.fields.get('TransactionDate') else 'Not found'}\")\n",
    "    print(f\"Total: {format_price(receipt.fields.get('Total').get('valueStringCurrency')) if receipt.fields.get('Total') else 'Not found'}\")\n",
    "    print(f\"Merchant Name: {receipt.fields.get('MerchantName').get('valueStringString') if receipt.fields.get('MerchantName') else 'Not found'}\")\n",
    "    \n",
    "    print(\"\\nItems:\")\n",
    "    items = receipt.fields.get(\"Items\")\n",
    "    if items:\n",
    "        for item in items.get('valueStringArray'):\n",
    "            item_description = item.get('valueStringObject').get(\"Description\")\n",
    "            item_total = item.get('valueStringObject').get(\"TotalPrice\")\n",
    "            print(f\"Description: {item_description.get('valueStringString') if item_description else 'Not found'}, \"\n",
    "                  f\"Total Price: {format_price(item_total.get('valueStringCurrency')) if item_total else 'Not found'}\")\n"
   ]
  },
  {
   "cell_type": "markdown",
   "metadata": {},
   "source": [
    "# Train Custom Layout Model\n",
    "\n",
    "- Create Azure Document Intelligence resource (Azure Portal)\n",
    "- Create a DI project (Azure DocumentIntelligence Studio)\n",
    "- Select Custom Layout Model (Azure DocumentIntelligence Studio)\n",
    "- Upload training data (see AzDI_sample_dataset), upload files doc1-doc5 (Azure DocumentIntelligence Studio)\n",
    "- Create Fields and annotate the data (Azure DocumentIntelligence Studio)\n",
    "- Train the model (Azure DocumentIntelligence Studio)\n",
    "- Test the model (Azure DocumentIntelligence Studio)\n",
    "- Enter the key, endpoint and model ID into the .env file (Azure Portal)\n",
    "- Run the code below to pass all the files and get the results"
   ]
  },
  {
   "cell_type": "code",
   "execution_count": null,
   "metadata": {},
   "outputs": [
    {
     "name": "stdout",
     "output_type": "stream",
     "text": [
      "    Filename            FirstName   LastName        MobileNr  \\\n",
      "0   doc1.pdf               Olivia    Berette   (555)217-3489   \n",
      "1  doc10.pdf          SophiaLewis             (555) 948-6057   \n",
      "2   doc2.pdf           LiamCarter  Livington  (555) 914-6621   \n",
      "3   doc3.pdf                 Noah       Gray  (555)-872 1345   \n",
      "4   doc4.pdf                 Emma    Johnson   555) 468-7329   \n",
      "5   doc5.pdf  LucasMartinezWalter     Schmid                   \n",
      "6   doc6.pdf             Isabelle      Davis  (516) 212-7712   \n",
      "7   doc7.pdf                JAMES      LOPEZ  (555) 792-5483   \n",
      "8   doc8.pdf              William     Harris   555) 392-1584   \n",
      "9   doc9.pdf                Henry       Snow  (555) 529-3748   \n",
      "\n",
      "                            Email AlreadySubscribed       OptDT  \\\n",
      "0  olivia. berette @ example. com          selected  unselected   \n",
      "1        sophia.lewis@example.net        unselected  unselected   \n",
      "2        liam_carter @example.net        unselected    selected   \n",
      "3             ngh112@example. net          selected    selected   \n",
      "4       emma.johnson@example. net          selected  unselected   \n",
      "5              lucas @example.net          selected    selected   \n",
      "6     isabelle davis @example.net          selected    selected   \n",
      "7         james.lopez@example.com          selected    selected   \n",
      "8      williamharris @example.net        unselected    selected   \n",
      "9        henry.turner@example.com          selected    selected   \n",
      "\n",
      "  ReferFirstName ReferLastName                      ReferEmail  \\\n",
      "0         Joseph          Liam                                   \n",
      "1                                                                \n",
      "2           Jake                           Jakel21@example.net   \n",
      "3                                                                \n",
      "4          Harry         Stone                  (516)-212-1177   \n",
      "5                                         WSchmid @example.org   \n",
      "6           Mark       Matthew        markmatthew @example.net   \n",
      "7      Charlotte                charlotte.anderson@example.com   \n",
      "8         Amelia         Clark             amelia@hotmail. net   \n",
      "9           John                       johnsparrow@example.net   \n",
      "\n",
      "        ReferMobileNr  \n",
      "0      (555) 321-5734  \n",
      "1                      \n",
      "2                      \n",
      "3                      \n",
      "4  harry @example.org  \n",
      "5                      \n",
      "6       (555)876-1215  \n",
      "7      (555) 823-4769  \n",
      "8      (555) 647-8912  \n",
      "9      (555) 264-1231  \n"
     ]
    }
   ],
   "source": [
    "import os\n",
    "from dotenv import load_dotenv\n",
    "load_dotenv()\n",
    "\n",
    "import glob\n",
    "import pandas as pd\n",
    "from azure.ai.documentintelligence import DocumentIntelligenceClient\n",
    "from azure.core.credentials import AzureKeyCredential\n",
    "\n",
    "# Initialize the Document Intelligence Client\n",
    "endpoint = os.environ.get(\"AZURE_DI_ENDPOINT\")\n",
    "key = os.environ.get(\"AZURE_DI_KEY\")\n",
    "model_name = os.environ.get(\"AZURE_DI_MODEL_NAME\")\n",
    "document_intelligence_client = DocumentIntelligenceClient(endpoint=endpoint, credential=AzureKeyCredential(key))\n",
    "\n",
    "# Get all PDF files in the folder\n",
    "pdf_files = glob.glob(\"AzDI_sample_dataset/*.pdf\")\n",
    "\n",
    "# Lists to store results\n",
    "results = []\n",
    "\n",
    "# Process each PDF file\n",
    "for pdf_path in pdf_files:\n",
    "    with open(pdf_path, \"rb\") as f:\n",
    "        poller = document_intelligence_client.begin_analyze_document(\n",
    "            model_id=model_name, analyze_request=f, locale=\"en-US\", content_type=\"application/octet-stream\"\n",
    "        )\n",
    "        result = poller.result()\n",
    "\n",
    "    # Extract fields from the result\n",
    "    for document in result.documents:\n",
    "        fields = document.fields if hasattr(document, 'fields') else {}\n",
    "    \n",
    "        # Create a dictionary for this document\n",
    "        doc_result = {\n",
    "            'Filename': os.path.basename(pdf_path),\n",
    "            'FirstName': fields.get('FirstName', {}).get('valueString', ''),\n",
    "            'LastName': fields.get('LastName', {}).get('valueString', ''),\n",
    "            'MobileNr': fields.get('MobileNr', {}).get('valueString', ''),\n",
    "            'Email': fields.get('Email', {}).get('valueString', ''),\n",
    "            'AlreadySubscribed': fields.get('AlreadySubscribed', {}).get('valueSelectionMark', ''),\n",
    "            'OptDT': fields.get('OptDT', {}).get('valueSelectionMark', ''),\n",
    "            'ReferFirstName': fields.get('ReferFirstName', {}).get('valueString', ''),\n",
    "            'ReferLastName': fields.get('ReferLastName', {}).get('valueString', ''),\n",
    "            'ReferEmail': fields.get('ReferEmail', {}).get('valueString', ''),\n",
    "            'ReferMobileNr': fields.get('ReferMobileNr', {}).get('valueString', '')\n",
    "        }\n",
    "        results.append(doc_result)\n",
    "# Create DataFrame from results\n",
    "df = pd.DataFrame(results)\n",
    "df"
   ]
  },
  {
   "cell_type": "code",
   "execution_count": null,
   "metadata": {},
   "outputs": [],
   "source": []
  }
 ],
 "metadata": {
  "kernelspec": {
   "display_name": "dl",
   "language": "python",
   "name": "dl"
  },
  "language_info": {
   "codemirror_mode": {
    "name": "ipython",
    "version": 3
   },
   "file_extension": ".py",
   "mimetype": "text/x-python",
   "name": "python",
   "nbconvert_exporter": "python",
   "pygments_lexer": "ipython3",
   "version": "3.10.11"
  }
 },
 "nbformat": 4,
 "nbformat_minor": 2
}
